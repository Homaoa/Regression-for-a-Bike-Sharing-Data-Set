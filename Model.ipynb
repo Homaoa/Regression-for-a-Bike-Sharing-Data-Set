{
  "nbformat": 4,
  "nbformat_minor": 0,
  "metadata": {
    "colab": {
      "provenance": [],
      "authorship_tag": "ABX9TyNkFp33fT0m+c5ZTg6CLB3i",
      "include_colab_link": true
    },
    "kernelspec": {
      "name": "python3",
      "display_name": "Python 3"
    },
    "language_info": {
      "name": "python"
    }
  },
  "cells": [
    {
      "cell_type": "markdown",
      "metadata": {
        "id": "view-in-github",
        "colab_type": "text"
      },
      "source": [
        "<a href=\"https://colab.research.google.com/github/Homaoa/Regression-for-a-Bike-Sharing-Data-Set/blob/main/Model.ipynb\" target=\"_parent\"><img src=\"https://colab.research.google.com/assets/colab-badge.svg\" alt=\"Open In Colab\"/></a>"
      ]
    },
    {
      "cell_type": "code",
      "execution_count": 13,
      "metadata": {
        "id": "rYR7E4Kx7E2t"
      },
      "outputs": [],
      "source": [
        "import pandas as pd\n",
        "import numpy as np"
      ]
    },
    {
      "cell_type": "code",
      "source": [
        "url='/content/Bike DataSet Cleaned.csv'\n",
        "df = pd.read_csv(url)\n",
        "df = df.drop(['Unnamed: 0'],axis=1)"
      ],
      "metadata": {
        "id": "xaEVReuV7zos"
      },
      "execution_count": 56,
      "outputs": []
    },
    {
      "cell_type": "code",
      "source": [
        "df['Season'] = df['Season'] . astype('object')\n",
        "df['Year'] = df['Year'] . astype('object')\n",
        "df['Month'] = df['Month'] . astype('object')\n",
        "df['WeekDay'] = df['WeekDay'] . astype('object')\n",
        "df['WeatherSituation'] = df['WeatherSituation'] . astype('object')\n",
        "df['Holiday'] = df['Holiday'] . astype('object')\n",
        "df['WorkingDay'] = df['WorkingDay'] . astype('object')"
      ],
      "metadata": {
        "id": "tiE34us478qA"
      },
      "execution_count": 57,
      "outputs": []
    },
    {
      "cell_type": "code",
      "source": [
        "# Making the categorical variables dummy.\n",
        "df = pd.get_dummies(df)\n",
        "df.head()"
      ],
      "metadata": {
        "colab": {
          "base_uri": "https://localhost:8080/",
          "height": 547
        },
        "id": "mUoaWsVu8Jpi",
        "outputId": "2ab59c28-a826-4d51-8ff6-ce63fec7725e"
      },
      "execution_count": 58,
      "outputs": [
        {
          "output_type": "stream",
          "name": "stderr",
          "text": [
            "<ipython-input-58-9e70d99fd04b>:2: FutureWarning: In a future version, the Index constructor will not infer numeric dtypes when passed object-dtype sequences (matching Series behavior)\n",
            "  df = pd.get_dummies(df)\n",
            "<ipython-input-58-9e70d99fd04b>:2: FutureWarning: In a future version, the Index constructor will not infer numeric dtypes when passed object-dtype sequences (matching Series behavior)\n",
            "  df = pd.get_dummies(df)\n",
            "<ipython-input-58-9e70d99fd04b>:2: FutureWarning: In a future version, the Index constructor will not infer numeric dtypes when passed object-dtype sequences (matching Series behavior)\n",
            "  df = pd.get_dummies(df)\n",
            "<ipython-input-58-9e70d99fd04b>:2: FutureWarning: In a future version, the Index constructor will not infer numeric dtypes when passed object-dtype sequences (matching Series behavior)\n",
            "  df = pd.get_dummies(df)\n",
            "<ipython-input-58-9e70d99fd04b>:2: FutureWarning: In a future version, the Index constructor will not infer numeric dtypes when passed object-dtype sequences (matching Series behavior)\n",
            "  df = pd.get_dummies(df)\n",
            "<ipython-input-58-9e70d99fd04b>:2: FutureWarning: In a future version, the Index constructor will not infer numeric dtypes when passed object-dtype sequences (matching Series behavior)\n",
            "  df = pd.get_dummies(df)\n",
            "<ipython-input-58-9e70d99fd04b>:2: FutureWarning: In a future version, the Index constructor will not infer numeric dtypes when passed object-dtype sequences (matching Series behavior)\n",
            "  df = pd.get_dummies(df)\n"
          ]
        },
        {
          "output_type": "execute_result",
          "data": {
            "text/plain": [
              "   Instant  Temperature  FeelingTemperature  Humidity  WindSpeed  Casual  \\\n",
              "0        1     0.344167            0.363625  0.805833   0.160446     331   \n",
              "1        2     0.363478            0.353739  0.696087   0.248539     131   \n",
              "2        3     0.196364            0.189405  0.437273   0.248309     120   \n",
              "3        4     0.200000            0.212122  0.590435   0.160296     108   \n",
              "4        5     0.226957            0.229270  0.436957   0.186900      82   \n",
              "\n",
              "   Registered  TotalBikes  Season_1  Season_2  ...  WeekDay_2  WeekDay_3  \\\n",
              "0         654         985         1         0  ...          0          0   \n",
              "1         670         801         1         0  ...          0          0   \n",
              "2        1229        1349         1         0  ...          0          0   \n",
              "3        1454        1562         1         0  ...          1          0   \n",
              "4        1518        1600         1         0  ...          0          1   \n",
              "\n",
              "   WeekDay_4  WeekDay_5  WeekDay_6  WorkingDay_0  WorkingDay_1  \\\n",
              "0          0          0          1             1             0   \n",
              "1          0          0          0             1             0   \n",
              "2          0          0          0             0             1   \n",
              "3          0          0          0             0             1   \n",
              "4          0          0          0             0             1   \n",
              "\n",
              "   WeatherSituation_1.0  WeatherSituation_2.0  WeatherSituation_3.0  \n",
              "0                     0                     1                     0  \n",
              "1                     0                     1                     0  \n",
              "2                     1                     0                     0  \n",
              "3                     1                     0                     0  \n",
              "4                     1                     0                     0  \n",
              "\n",
              "[5 rows x 40 columns]"
            ],
            "text/html": [
              "\n",
              "  <div id=\"df-287ca8a0-be62-483c-8d37-1528f7597c15\">\n",
              "    <div class=\"colab-df-container\">\n",
              "      <div>\n",
              "<style scoped>\n",
              "    .dataframe tbody tr th:only-of-type {\n",
              "        vertical-align: middle;\n",
              "    }\n",
              "\n",
              "    .dataframe tbody tr th {\n",
              "        vertical-align: top;\n",
              "    }\n",
              "\n",
              "    .dataframe thead th {\n",
              "        text-align: right;\n",
              "    }\n",
              "</style>\n",
              "<table border=\"1\" class=\"dataframe\">\n",
              "  <thead>\n",
              "    <tr style=\"text-align: right;\">\n",
              "      <th></th>\n",
              "      <th>Instant</th>\n",
              "      <th>Temperature</th>\n",
              "      <th>FeelingTemperature</th>\n",
              "      <th>Humidity</th>\n",
              "      <th>WindSpeed</th>\n",
              "      <th>Casual</th>\n",
              "      <th>Registered</th>\n",
              "      <th>TotalBikes</th>\n",
              "      <th>Season_1</th>\n",
              "      <th>Season_2</th>\n",
              "      <th>...</th>\n",
              "      <th>WeekDay_2</th>\n",
              "      <th>WeekDay_3</th>\n",
              "      <th>WeekDay_4</th>\n",
              "      <th>WeekDay_5</th>\n",
              "      <th>WeekDay_6</th>\n",
              "      <th>WorkingDay_0</th>\n",
              "      <th>WorkingDay_1</th>\n",
              "      <th>WeatherSituation_1.0</th>\n",
              "      <th>WeatherSituation_2.0</th>\n",
              "      <th>WeatherSituation_3.0</th>\n",
              "    </tr>\n",
              "  </thead>\n",
              "  <tbody>\n",
              "    <tr>\n",
              "      <th>0</th>\n",
              "      <td>1</td>\n",
              "      <td>0.344167</td>\n",
              "      <td>0.363625</td>\n",
              "      <td>0.805833</td>\n",
              "      <td>0.160446</td>\n",
              "      <td>331</td>\n",
              "      <td>654</td>\n",
              "      <td>985</td>\n",
              "      <td>1</td>\n",
              "      <td>0</td>\n",
              "      <td>...</td>\n",
              "      <td>0</td>\n",
              "      <td>0</td>\n",
              "      <td>0</td>\n",
              "      <td>0</td>\n",
              "      <td>1</td>\n",
              "      <td>1</td>\n",
              "      <td>0</td>\n",
              "      <td>0</td>\n",
              "      <td>1</td>\n",
              "      <td>0</td>\n",
              "    </tr>\n",
              "    <tr>\n",
              "      <th>1</th>\n",
              "      <td>2</td>\n",
              "      <td>0.363478</td>\n",
              "      <td>0.353739</td>\n",
              "      <td>0.696087</td>\n",
              "      <td>0.248539</td>\n",
              "      <td>131</td>\n",
              "      <td>670</td>\n",
              "      <td>801</td>\n",
              "      <td>1</td>\n",
              "      <td>0</td>\n",
              "      <td>...</td>\n",
              "      <td>0</td>\n",
              "      <td>0</td>\n",
              "      <td>0</td>\n",
              "      <td>0</td>\n",
              "      <td>0</td>\n",
              "      <td>1</td>\n",
              "      <td>0</td>\n",
              "      <td>0</td>\n",
              "      <td>1</td>\n",
              "      <td>0</td>\n",
              "    </tr>\n",
              "    <tr>\n",
              "      <th>2</th>\n",
              "      <td>3</td>\n",
              "      <td>0.196364</td>\n",
              "      <td>0.189405</td>\n",
              "      <td>0.437273</td>\n",
              "      <td>0.248309</td>\n",
              "      <td>120</td>\n",
              "      <td>1229</td>\n",
              "      <td>1349</td>\n",
              "      <td>1</td>\n",
              "      <td>0</td>\n",
              "      <td>...</td>\n",
              "      <td>0</td>\n",
              "      <td>0</td>\n",
              "      <td>0</td>\n",
              "      <td>0</td>\n",
              "      <td>0</td>\n",
              "      <td>0</td>\n",
              "      <td>1</td>\n",
              "      <td>1</td>\n",
              "      <td>0</td>\n",
              "      <td>0</td>\n",
              "    </tr>\n",
              "    <tr>\n",
              "      <th>3</th>\n",
              "      <td>4</td>\n",
              "      <td>0.200000</td>\n",
              "      <td>0.212122</td>\n",
              "      <td>0.590435</td>\n",
              "      <td>0.160296</td>\n",
              "      <td>108</td>\n",
              "      <td>1454</td>\n",
              "      <td>1562</td>\n",
              "      <td>1</td>\n",
              "      <td>0</td>\n",
              "      <td>...</td>\n",
              "      <td>1</td>\n",
              "      <td>0</td>\n",
              "      <td>0</td>\n",
              "      <td>0</td>\n",
              "      <td>0</td>\n",
              "      <td>0</td>\n",
              "      <td>1</td>\n",
              "      <td>1</td>\n",
              "      <td>0</td>\n",
              "      <td>0</td>\n",
              "    </tr>\n",
              "    <tr>\n",
              "      <th>4</th>\n",
              "      <td>5</td>\n",
              "      <td>0.226957</td>\n",
              "      <td>0.229270</td>\n",
              "      <td>0.436957</td>\n",
              "      <td>0.186900</td>\n",
              "      <td>82</td>\n",
              "      <td>1518</td>\n",
              "      <td>1600</td>\n",
              "      <td>1</td>\n",
              "      <td>0</td>\n",
              "      <td>...</td>\n",
              "      <td>0</td>\n",
              "      <td>1</td>\n",
              "      <td>0</td>\n",
              "      <td>0</td>\n",
              "      <td>0</td>\n",
              "      <td>0</td>\n",
              "      <td>1</td>\n",
              "      <td>1</td>\n",
              "      <td>0</td>\n",
              "      <td>0</td>\n",
              "    </tr>\n",
              "  </tbody>\n",
              "</table>\n",
              "<p>5 rows × 40 columns</p>\n",
              "</div>\n",
              "      <button class=\"colab-df-convert\" onclick=\"convertToInteractive('df-287ca8a0-be62-483c-8d37-1528f7597c15')\"\n",
              "              title=\"Convert this dataframe to an interactive table.\"\n",
              "              style=\"display:none;\">\n",
              "        \n",
              "  <svg xmlns=\"http://www.w3.org/2000/svg\" height=\"24px\"viewBox=\"0 0 24 24\"\n",
              "       width=\"24px\">\n",
              "    <path d=\"M0 0h24v24H0V0z\" fill=\"none\"/>\n",
              "    <path d=\"M18.56 5.44l.94 2.06.94-2.06 2.06-.94-2.06-.94-.94-2.06-.94 2.06-2.06.94zm-11 1L8.5 8.5l.94-2.06 2.06-.94-2.06-.94L8.5 2.5l-.94 2.06-2.06.94zm10 10l.94 2.06.94-2.06 2.06-.94-2.06-.94-.94-2.06-.94 2.06-2.06.94z\"/><path d=\"M17.41 7.96l-1.37-1.37c-.4-.4-.92-.59-1.43-.59-.52 0-1.04.2-1.43.59L10.3 9.45l-7.72 7.72c-.78.78-.78 2.05 0 2.83L4 21.41c.39.39.9.59 1.41.59.51 0 1.02-.2 1.41-.59l7.78-7.78 2.81-2.81c.8-.78.8-2.07 0-2.86zM5.41 20L4 18.59l7.72-7.72 1.47 1.35L5.41 20z\"/>\n",
              "  </svg>\n",
              "      </button>\n",
              "      \n",
              "  <style>\n",
              "    .colab-df-container {\n",
              "      display:flex;\n",
              "      flex-wrap:wrap;\n",
              "      gap: 12px;\n",
              "    }\n",
              "\n",
              "    .colab-df-convert {\n",
              "      background-color: #E8F0FE;\n",
              "      border: none;\n",
              "      border-radius: 50%;\n",
              "      cursor: pointer;\n",
              "      display: none;\n",
              "      fill: #1967D2;\n",
              "      height: 32px;\n",
              "      padding: 0 0 0 0;\n",
              "      width: 32px;\n",
              "    }\n",
              "\n",
              "    .colab-df-convert:hover {\n",
              "      background-color: #E2EBFA;\n",
              "      box-shadow: 0px 1px 2px rgba(60, 64, 67, 0.3), 0px 1px 3px 1px rgba(60, 64, 67, 0.15);\n",
              "      fill: #174EA6;\n",
              "    }\n",
              "\n",
              "    [theme=dark] .colab-df-convert {\n",
              "      background-color: #3B4455;\n",
              "      fill: #D2E3FC;\n",
              "    }\n",
              "\n",
              "    [theme=dark] .colab-df-convert:hover {\n",
              "      background-color: #434B5C;\n",
              "      box-shadow: 0px 1px 3px 1px rgba(0, 0, 0, 0.15);\n",
              "      filter: drop-shadow(0px 1px 2px rgba(0, 0, 0, 0.3));\n",
              "      fill: #FFFFFF;\n",
              "    }\n",
              "  </style>\n",
              "\n",
              "      <script>\n",
              "        const buttonEl =\n",
              "          document.querySelector('#df-287ca8a0-be62-483c-8d37-1528f7597c15 button.colab-df-convert');\n",
              "        buttonEl.style.display =\n",
              "          google.colab.kernel.accessAllowed ? 'block' : 'none';\n",
              "\n",
              "        async function convertToInteractive(key) {\n",
              "          const element = document.querySelector('#df-287ca8a0-be62-483c-8d37-1528f7597c15');\n",
              "          const dataTable =\n",
              "            await google.colab.kernel.invokeFunction('convertToInteractive',\n",
              "                                                     [key], {});\n",
              "          if (!dataTable) return;\n",
              "\n",
              "          const docLinkHtml = 'Like what you see? Visit the ' +\n",
              "            '<a target=\"_blank\" href=https://colab.research.google.com/notebooks/data_table.ipynb>data table notebook</a>'\n",
              "            + ' to learn more about interactive tables.';\n",
              "          element.innerHTML = '';\n",
              "          dataTable['output_type'] = 'display_data';\n",
              "          await google.colab.output.renderOutput(dataTable, element);\n",
              "          const docLink = document.createElement('div');\n",
              "          docLink.innerHTML = docLinkHtml;\n",
              "          element.appendChild(docLink);\n",
              "        }\n",
              "      </script>\n",
              "    </div>\n",
              "  </div>\n",
              "  "
            ]
          },
          "metadata": {},
          "execution_count": 58
        }
      ]
    },
    {
      "cell_type": "code",
      "source": [
        "# I remove the variables that I won't use in the models.\n",
        "df = df.drop(['Instant','Casual','Registered'], axis=1)"
      ],
      "metadata": {
        "id": "TAMj4egU-MHj"
      },
      "execution_count": 59,
      "outputs": []
    },
    {
      "cell_type": "code",
      "source": [
        "df.head()"
      ],
      "metadata": {
        "colab": {
          "base_uri": "https://localhost:8080/",
          "height": 299
        },
        "id": "k1tGBAv3-hW-",
        "outputId": "da5257f4-e7ed-46ff-9573-213e8b63d199"
      },
      "execution_count": 60,
      "outputs": [
        {
          "output_type": "execute_result",
          "data": {
            "text/plain": [
              "   Temperature  FeelingTemperature  Humidity  WindSpeed  TotalBikes  Season_1  \\\n",
              "0     0.344167            0.363625  0.805833   0.160446         985         1   \n",
              "1     0.363478            0.353739  0.696087   0.248539         801         1   \n",
              "2     0.196364            0.189405  0.437273   0.248309        1349         1   \n",
              "3     0.200000            0.212122  0.590435   0.160296        1562         1   \n",
              "4     0.226957            0.229270  0.436957   0.186900        1600         1   \n",
              "\n",
              "   Season_2  Season_3  Season_4  Year_0  ...  WeekDay_2  WeekDay_3  WeekDay_4  \\\n",
              "0         0         0         0       1  ...          0          0          0   \n",
              "1         0         0         0       1  ...          0          0          0   \n",
              "2         0         0         0       1  ...          0          0          0   \n",
              "3         0         0         0       1  ...          1          0          0   \n",
              "4         0         0         0       1  ...          0          1          0   \n",
              "\n",
              "   WeekDay_5  WeekDay_6  WorkingDay_0  WorkingDay_1  WeatherSituation_1.0  \\\n",
              "0          0          1             1             0                     0   \n",
              "1          0          0             1             0                     0   \n",
              "2          0          0             0             1                     1   \n",
              "3          0          0             0             1                     1   \n",
              "4          0          0             0             1                     1   \n",
              "\n",
              "   WeatherSituation_2.0  WeatherSituation_3.0  \n",
              "0                     1                     0  \n",
              "1                     1                     0  \n",
              "2                     0                     0  \n",
              "3                     0                     0  \n",
              "4                     0                     0  \n",
              "\n",
              "[5 rows x 37 columns]"
            ],
            "text/html": [
              "\n",
              "  <div id=\"df-0b246139-6655-4b2d-ac78-2f7c165279b4\">\n",
              "    <div class=\"colab-df-container\">\n",
              "      <div>\n",
              "<style scoped>\n",
              "    .dataframe tbody tr th:only-of-type {\n",
              "        vertical-align: middle;\n",
              "    }\n",
              "\n",
              "    .dataframe tbody tr th {\n",
              "        vertical-align: top;\n",
              "    }\n",
              "\n",
              "    .dataframe thead th {\n",
              "        text-align: right;\n",
              "    }\n",
              "</style>\n",
              "<table border=\"1\" class=\"dataframe\">\n",
              "  <thead>\n",
              "    <tr style=\"text-align: right;\">\n",
              "      <th></th>\n",
              "      <th>Temperature</th>\n",
              "      <th>FeelingTemperature</th>\n",
              "      <th>Humidity</th>\n",
              "      <th>WindSpeed</th>\n",
              "      <th>TotalBikes</th>\n",
              "      <th>Season_1</th>\n",
              "      <th>Season_2</th>\n",
              "      <th>Season_3</th>\n",
              "      <th>Season_4</th>\n",
              "      <th>Year_0</th>\n",
              "      <th>...</th>\n",
              "      <th>WeekDay_2</th>\n",
              "      <th>WeekDay_3</th>\n",
              "      <th>WeekDay_4</th>\n",
              "      <th>WeekDay_5</th>\n",
              "      <th>WeekDay_6</th>\n",
              "      <th>WorkingDay_0</th>\n",
              "      <th>WorkingDay_1</th>\n",
              "      <th>WeatherSituation_1.0</th>\n",
              "      <th>WeatherSituation_2.0</th>\n",
              "      <th>WeatherSituation_3.0</th>\n",
              "    </tr>\n",
              "  </thead>\n",
              "  <tbody>\n",
              "    <tr>\n",
              "      <th>0</th>\n",
              "      <td>0.344167</td>\n",
              "      <td>0.363625</td>\n",
              "      <td>0.805833</td>\n",
              "      <td>0.160446</td>\n",
              "      <td>985</td>\n",
              "      <td>1</td>\n",
              "      <td>0</td>\n",
              "      <td>0</td>\n",
              "      <td>0</td>\n",
              "      <td>1</td>\n",
              "      <td>...</td>\n",
              "      <td>0</td>\n",
              "      <td>0</td>\n",
              "      <td>0</td>\n",
              "      <td>0</td>\n",
              "      <td>1</td>\n",
              "      <td>1</td>\n",
              "      <td>0</td>\n",
              "      <td>0</td>\n",
              "      <td>1</td>\n",
              "      <td>0</td>\n",
              "    </tr>\n",
              "    <tr>\n",
              "      <th>1</th>\n",
              "      <td>0.363478</td>\n",
              "      <td>0.353739</td>\n",
              "      <td>0.696087</td>\n",
              "      <td>0.248539</td>\n",
              "      <td>801</td>\n",
              "      <td>1</td>\n",
              "      <td>0</td>\n",
              "      <td>0</td>\n",
              "      <td>0</td>\n",
              "      <td>1</td>\n",
              "      <td>...</td>\n",
              "      <td>0</td>\n",
              "      <td>0</td>\n",
              "      <td>0</td>\n",
              "      <td>0</td>\n",
              "      <td>0</td>\n",
              "      <td>1</td>\n",
              "      <td>0</td>\n",
              "      <td>0</td>\n",
              "      <td>1</td>\n",
              "      <td>0</td>\n",
              "    </tr>\n",
              "    <tr>\n",
              "      <th>2</th>\n",
              "      <td>0.196364</td>\n",
              "      <td>0.189405</td>\n",
              "      <td>0.437273</td>\n",
              "      <td>0.248309</td>\n",
              "      <td>1349</td>\n",
              "      <td>1</td>\n",
              "      <td>0</td>\n",
              "      <td>0</td>\n",
              "      <td>0</td>\n",
              "      <td>1</td>\n",
              "      <td>...</td>\n",
              "      <td>0</td>\n",
              "      <td>0</td>\n",
              "      <td>0</td>\n",
              "      <td>0</td>\n",
              "      <td>0</td>\n",
              "      <td>0</td>\n",
              "      <td>1</td>\n",
              "      <td>1</td>\n",
              "      <td>0</td>\n",
              "      <td>0</td>\n",
              "    </tr>\n",
              "    <tr>\n",
              "      <th>3</th>\n",
              "      <td>0.200000</td>\n",
              "      <td>0.212122</td>\n",
              "      <td>0.590435</td>\n",
              "      <td>0.160296</td>\n",
              "      <td>1562</td>\n",
              "      <td>1</td>\n",
              "      <td>0</td>\n",
              "      <td>0</td>\n",
              "      <td>0</td>\n",
              "      <td>1</td>\n",
              "      <td>...</td>\n",
              "      <td>1</td>\n",
              "      <td>0</td>\n",
              "      <td>0</td>\n",
              "      <td>0</td>\n",
              "      <td>0</td>\n",
              "      <td>0</td>\n",
              "      <td>1</td>\n",
              "      <td>1</td>\n",
              "      <td>0</td>\n",
              "      <td>0</td>\n",
              "    </tr>\n",
              "    <tr>\n",
              "      <th>4</th>\n",
              "      <td>0.226957</td>\n",
              "      <td>0.229270</td>\n",
              "      <td>0.436957</td>\n",
              "      <td>0.186900</td>\n",
              "      <td>1600</td>\n",
              "      <td>1</td>\n",
              "      <td>0</td>\n",
              "      <td>0</td>\n",
              "      <td>0</td>\n",
              "      <td>1</td>\n",
              "      <td>...</td>\n",
              "      <td>0</td>\n",
              "      <td>1</td>\n",
              "      <td>0</td>\n",
              "      <td>0</td>\n",
              "      <td>0</td>\n",
              "      <td>0</td>\n",
              "      <td>1</td>\n",
              "      <td>1</td>\n",
              "      <td>0</td>\n",
              "      <td>0</td>\n",
              "    </tr>\n",
              "  </tbody>\n",
              "</table>\n",
              "<p>5 rows × 37 columns</p>\n",
              "</div>\n",
              "      <button class=\"colab-df-convert\" onclick=\"convertToInteractive('df-0b246139-6655-4b2d-ac78-2f7c165279b4')\"\n",
              "              title=\"Convert this dataframe to an interactive table.\"\n",
              "              style=\"display:none;\">\n",
              "        \n",
              "  <svg xmlns=\"http://www.w3.org/2000/svg\" height=\"24px\"viewBox=\"0 0 24 24\"\n",
              "       width=\"24px\">\n",
              "    <path d=\"M0 0h24v24H0V0z\" fill=\"none\"/>\n",
              "    <path d=\"M18.56 5.44l.94 2.06.94-2.06 2.06-.94-2.06-.94-.94-2.06-.94 2.06-2.06.94zm-11 1L8.5 8.5l.94-2.06 2.06-.94-2.06-.94L8.5 2.5l-.94 2.06-2.06.94zm10 10l.94 2.06.94-2.06 2.06-.94-2.06-.94-.94-2.06-.94 2.06-2.06.94z\"/><path d=\"M17.41 7.96l-1.37-1.37c-.4-.4-.92-.59-1.43-.59-.52 0-1.04.2-1.43.59L10.3 9.45l-7.72 7.72c-.78.78-.78 2.05 0 2.83L4 21.41c.39.39.9.59 1.41.59.51 0 1.02-.2 1.41-.59l7.78-7.78 2.81-2.81c.8-.78.8-2.07 0-2.86zM5.41 20L4 18.59l7.72-7.72 1.47 1.35L5.41 20z\"/>\n",
              "  </svg>\n",
              "      </button>\n",
              "      \n",
              "  <style>\n",
              "    .colab-df-container {\n",
              "      display:flex;\n",
              "      flex-wrap:wrap;\n",
              "      gap: 12px;\n",
              "    }\n",
              "\n",
              "    .colab-df-convert {\n",
              "      background-color: #E8F0FE;\n",
              "      border: none;\n",
              "      border-radius: 50%;\n",
              "      cursor: pointer;\n",
              "      display: none;\n",
              "      fill: #1967D2;\n",
              "      height: 32px;\n",
              "      padding: 0 0 0 0;\n",
              "      width: 32px;\n",
              "    }\n",
              "\n",
              "    .colab-df-convert:hover {\n",
              "      background-color: #E2EBFA;\n",
              "      box-shadow: 0px 1px 2px rgba(60, 64, 67, 0.3), 0px 1px 3px 1px rgba(60, 64, 67, 0.15);\n",
              "      fill: #174EA6;\n",
              "    }\n",
              "\n",
              "    [theme=dark] .colab-df-convert {\n",
              "      background-color: #3B4455;\n",
              "      fill: #D2E3FC;\n",
              "    }\n",
              "\n",
              "    [theme=dark] .colab-df-convert:hover {\n",
              "      background-color: #434B5C;\n",
              "      box-shadow: 0px 1px 3px 1px rgba(0, 0, 0, 0.15);\n",
              "      filter: drop-shadow(0px 1px 2px rgba(0, 0, 0, 0.3));\n",
              "      fill: #FFFFFF;\n",
              "    }\n",
              "  </style>\n",
              "\n",
              "      <script>\n",
              "        const buttonEl =\n",
              "          document.querySelector('#df-0b246139-6655-4b2d-ac78-2f7c165279b4 button.colab-df-convert');\n",
              "        buttonEl.style.display =\n",
              "          google.colab.kernel.accessAllowed ? 'block' : 'none';\n",
              "\n",
              "        async function convertToInteractive(key) {\n",
              "          const element = document.querySelector('#df-0b246139-6655-4b2d-ac78-2f7c165279b4');\n",
              "          const dataTable =\n",
              "            await google.colab.kernel.invokeFunction('convertToInteractive',\n",
              "                                                     [key], {});\n",
              "          if (!dataTable) return;\n",
              "\n",
              "          const docLinkHtml = 'Like what you see? Visit the ' +\n",
              "            '<a target=\"_blank\" href=https://colab.research.google.com/notebooks/data_table.ipynb>data table notebook</a>'\n",
              "            + ' to learn more about interactive tables.';\n",
              "          element.innerHTML = '';\n",
              "          dataTable['output_type'] = 'display_data';\n",
              "          await google.colab.output.renderOutput(dataTable, element);\n",
              "          const docLink = document.createElement('div');\n",
              "          docLink.innerHTML = docLinkHtml;\n",
              "          element.appendChild(docLink);\n",
              "        }\n",
              "      </script>\n",
              "    </div>\n",
              "  </div>\n",
              "  "
            ]
          },
          "metadata": {},
          "execution_count": 60
        }
      ]
    },
    {
      "cell_type": "code",
      "source": [
        "# Train Test split \n",
        "from sklearn.model_selection import train_test_split\n",
        "\n",
        "X = df.drop('TotalBikes', axis=1)\n",
        "y = df['TotalBikes']\n",
        "X_train,X_test,y_train,y_test = train_test_split(X, y, test_size = 0.2)"
      ],
      "metadata": {
        "id": "xic8JMu49m13"
      },
      "execution_count": 61,
      "outputs": []
    },
    {
      "cell_type": "markdown",
      "source": [
        "## Machine Learning Models"
      ],
      "metadata": {
        "id": "GxwIwN4h9W0S"
      }
    },
    {
      "cell_type": "code",
      "source": [
        "# I use different Machine Learning models. For evaluation, I use R2 with train and test data."
      ],
      "metadata": {
        "id": "XmqbseGyCEg2"
      },
      "execution_count": null,
      "outputs": []
    },
    {
      "cell_type": "markdown",
      "source": [
        "#### Multiple Linear Regression"
      ],
      "metadata": {
        "id": "_8EF6ykvLExf"
      }
    },
    {
      "cell_type": "code",
      "source": [
        "from sklearn.linear_model import LinearRegression\n",
        "from sklearn.metrics import r2_score\n",
        "\n",
        "regressor_multi = LinearRegression()\n",
        "regressor_multi.fit(X_train , y_train)\n",
        "y_pred = regressor_multi.predict(X_test)\n",
        "\n",
        "R2 = r2_score(y_test , y_pred)\n",
        "print(f'Accuracy of the multiple linear regression model: {R2}')"
      ],
      "metadata": {
        "colab": {
          "base_uri": "https://localhost:8080/"
        },
        "id": "GRiTiDXyLDr8",
        "outputId": "55d6b077-8d9a-43c8-a237-2cf48c605e8e"
      },
      "execution_count": 62,
      "outputs": [
        {
          "output_type": "stream",
          "name": "stdout",
          "text": [
            "Accuracy of the multiple linear regression model: 0.8186610717889724\n"
          ]
        }
      ]
    },
    {
      "cell_type": "markdown",
      "source": [
        "#### Polynomial Regression"
      ],
      "metadata": {
        "id": "M-hiT0A4MSmx"
      }
    },
    {
      "cell_type": "code",
      "source": [
        "from sklearn.preprocessing import PolynomialFeatures\n",
        "\n",
        "poly_reg = PolynomialFeatures(degree=5)\n",
        "X_train_poly = poly_reg.fit_transform(X_train)\n",
        "X_test_poly = poly_reg.transform(X_test)"
      ],
      "metadata": {
        "id": "1V09ZMHdLDyL"
      },
      "execution_count": 65,
      "outputs": []
    },
    {
      "cell_type": "code",
      "source": [
        "regressor_poly = LinearRegression()\n",
        "regressor_poly.fit(X_train_poly , y_train)\n",
        "y_pred = regressor_poly.predict(X_test_poly)\n",
        "\n",
        "R2 = r2_score(y_test , y_pred)\n",
        "print(f'Accuracy of the polynomial regression model: {R2}')"
      ],
      "metadata": {
        "id": "lDQun7TaPNFT"
      },
      "execution_count": null,
      "outputs": []
    },
    {
      "cell_type": "markdown",
      "source": [
        "#### Decision Tree"
      ],
      "metadata": {
        "id": "F5wwGp5jNDZ3"
      }
    },
    {
      "cell_type": "code",
      "source": [
        "from sklearn.tree import DecisionTreeRegressor\n",
        "\n",
        "regressor_tree = DecisionTreeRegressor(random_state = 0)\n",
        "regressor_tree.fit(X_train,y_train)\n",
        "y_pred = regressor_tree.predict(X_test)\n",
        "\n",
        "R2 = r2_score(y_test , y_pred)\n",
        "print(f'Accuracy of the decision tree regression model: {R2}')"
      ],
      "metadata": {
        "colab": {
          "base_uri": "https://localhost:8080/"
        },
        "id": "FuVCE1tWLD5H",
        "outputId": "c88557b8-0fe4-4440-9a10-0b245d90e741"
      },
      "execution_count": 67,
      "outputs": [
        {
          "output_type": "stream",
          "name": "stdout",
          "text": [
            "Accuracy of the decision tree regression model: 0.7802534142623443\n"
          ]
        }
      ]
    },
    {
      "cell_type": "markdown",
      "source": [
        "#### Random Forest"
      ],
      "metadata": {
        "id": "zC4Rh65_NJp0"
      }
    },
    {
      "cell_type": "code",
      "source": [
        "from sklearn.ensemble import RandomForestRegressor\n",
        "\n",
        "regressor_forest = RandomForestRegressor(n_estimators = 10, random_state = 0)\n",
        "regressor_forest.fit(X_train,y_train)\n",
        "y_pred = regressor_forest.predict(X_test)\n",
        "\n",
        "R2 = r2_score(y_test , y_pred)\n",
        "print(f'Accuracy of the random forest regression model: {R2}')"
      ],
      "metadata": {
        "colab": {
          "base_uri": "https://localhost:8080/"
        },
        "id": "Farx8uVgNO0c",
        "outputId": "e7f1f663-2cdc-43d7-b9aa-15f9e64e6464"
      },
      "execution_count": 68,
      "outputs": [
        {
          "output_type": "stream",
          "name": "stdout",
          "text": [
            "Accuracy of the random forest regression model: 0.8650351642481146\n"
          ]
        }
      ]
    },
    {
      "cell_type": "markdown",
      "source": [
        "#### XGBoost"
      ],
      "metadata": {
        "id": "AP4Fs1Or81mb"
      }
    },
    {
      "cell_type": "code",
      "source": [
        "from xgboost import XGBRegressor\n",
        "\n",
        "regressor_xgboost = XGBRegressor()\n",
        "regressor_xgboost.fit(X_train,y_train)\n",
        "y_pred = regressor_xgboost.predict(X_test)\n",
        "\n",
        "R2 = r2_score(y_test , y_pred)\n",
        "print(f'Accuracy of the xgboost regression model: {R2}')"
      ],
      "metadata": {
        "colab": {
          "base_uri": "https://localhost:8080/"
        },
        "id": "Dl6pk5D184NW",
        "outputId": "396dfee4-002b-4943-ff2b-420cab03c3c9"
      },
      "execution_count": 69,
      "outputs": [
        {
          "output_type": "stream",
          "name": "stdout",
          "text": [
            "Accuracy of the xgboost regression model: 0.8831223993953349\n"
          ]
        }
      ]
    },
    {
      "cell_type": "markdown",
      "source": [
        "#### Support Vector for Regression (SVR)"
      ],
      "metadata": {
        "id": "RROK1mHVMzAq"
      }
    },
    {
      "cell_type": "code",
      "source": [
        "# For SVR model, we need to scale the independant variables and also the target (dependant) variable.\n",
        "# The categorical variables are dummies so they don't need scaling, and the numeric variables are also normalized,\n",
        "# so they don't need scaling.\n",
        "# The target variable, TotalBikes should be scaled. In order to scale target, it should be 2D."
      ],
      "metadata": {
        "id": "BOo540X2LD13"
      },
      "execution_count": null,
      "outputs": []
    },
    {
      "cell_type": "code",
      "source": [
        "XX = df.drop('TotalBikes', axis=1)\n",
        "yy = df[['TotalBikes']]\n",
        "XX_train,XX_test,yy_train,yy_test = train_test_split(XX, yy, test_size = 0.2)"
      ],
      "metadata": {
        "id": "uAC0l0mvZMKY"
      },
      "execution_count": 70,
      "outputs": []
    },
    {
      "cell_type": "code",
      "source": [
        "from sklearn.preprocessing import StandardScaler\n",
        "scale_y = StandardScaler()\n",
        "yy_train_scaled = scale_y.fit_transform(yy_train)\n",
        "yy_test_scaled = scale_y.transform(yy_test)"
      ],
      "metadata": {
        "id": "MyI-HhUFXMU1"
      },
      "execution_count": 71,
      "outputs": []
    },
    {
      "cell_type": "code",
      "source": [
        "from sklearn.svm import SVR\n",
        "\n",
        "regressor_svr = SVR(kernel='rbf')\n",
        "regressor_svr.fit(XX_train,yy_train_scaled)\n",
        "yy_pred = regressor_svr.predict(XX_test)\n",
        "\n",
        "R2 = r2_score(yy_test_scaled , yy_pred)\n",
        "print(f'Accuracy of the SVR regression model: {R2}')"
      ],
      "metadata": {
        "colab": {
          "base_uri": "https://localhost:8080/"
        },
        "id": "14dHwRZNNPAb",
        "outputId": "ce7725ac-dad6-44b2-cfaa-6918997ccd8f"
      },
      "execution_count": 72,
      "outputs": [
        {
          "output_type": "stream",
          "name": "stdout",
          "text": [
            "Accuracy of the SVR regression model: 0.8397657659038069\n"
          ]
        },
        {
          "output_type": "stream",
          "name": "stderr",
          "text": [
            "/usr/local/lib/python3.10/dist-packages/sklearn/utils/validation.py:1143: DataConversionWarning: A column-vector y was passed when a 1d array was expected. Please change the shape of y to (n_samples, ), for example using ravel().\n",
            "  y = column_or_1d(y, warn=True)\n"
          ]
        }
      ]
    },
    {
      "cell_type": "markdown",
      "source": [
        "#### Grid Search"
      ],
      "metadata": {
        "id": "kqPD6G8keQY7"
      }
    },
    {
      "cell_type": "code",
      "source": [
        "# I tune the Random Forest model using Grid Search.\n",
        "\n",
        "from sklearn.model_selection import GridSearchCV\n",
        "parameters = {'n_estimators':range(10,300,10), 'max_features':('auto','sqrt','log2')}\n",
        "\n",
        "gs = GridSearchCV(regressor_forest,parameters,cv=4)\n",
        "gs.fit(X_train,y_train)\n",
        "\n",
        "gs.best_score_\n",
        "gs.best_estimator_"
      ],
      "metadata": {
        "id": "fWCfJT7HZn9o"
      },
      "execution_count": null,
      "outputs": []
    },
    {
      "cell_type": "code",
      "source": [
        "# based on the outcome of the Grid Search, the best parameters for the Random Forest model are: \n",
        "# max_features = 'log2' ,  n_estimators = 60  ,  random_state = 0"
      ],
      "metadata": {
        "id": "6mhSG-iOBbNq"
      },
      "execution_count": null,
      "outputs": []
    },
    {
      "cell_type": "code",
      "source": [
        "from sklearn.ensemble import RandomForestRegressor\n",
        "\n",
        "regressor_forest = RandomForestRegressor(max_features='log2',n_estimators = 60, random_state = 0)\n",
        "regressor_forest.fit(X_train,y_train)\n",
        "y_pred = regressor_forest.predict(X_test)\n",
        "\n",
        "R2 = r2_score(y_test , y_pred)\n",
        "print(f'Accuracy of the random forest regression model after tunning: {R2}')"
      ],
      "metadata": {
        "id": "5BNBNrWLJITN",
        "colab": {
          "base_uri": "https://localhost:8080/"
        },
        "outputId": "106e77ad-27f0-4950-bd39-c0563153d652"
      },
      "execution_count": 74,
      "outputs": [
        {
          "output_type": "stream",
          "name": "stdout",
          "text": [
            "Accuracy of the random forest regression model after tunning: 0.8908191077348288\n"
          ]
        }
      ]
    },
    {
      "cell_type": "markdown",
      "source": [
        "#### Model performance\n",
        "\n",
        "Random Forest model outperformed other models, even though XGBoost and SVR also had very good performances, especially XGBoost. The better performance by Random Forest model happened after tunning by Grid Search."
      ],
      "metadata": {
        "id": "Fiedav0yEsHL"
      }
    }
  ]
}