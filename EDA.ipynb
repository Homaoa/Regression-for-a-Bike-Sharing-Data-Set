{
  "nbformat": 4,
  "nbformat_minor": 0,
  "metadata": {
    "colab": {
      "provenance": [],
      "authorship_tag": "ABX9TyOu+x4qT6PdJIupCqbW54wA",
      "include_colab_link": true
    },
    "kernelspec": {
      "name": "python3",
      "display_name": "Python 3"
    },
    "language_info": {
      "name": "python"
    }
  },
  "cells": [
    {
      "cell_type": "markdown",
      "metadata": {
        "id": "view-in-github",
        "colab_type": "text"
      },
      "source": [
        "<a href=\"https://colab.research.google.com/github/Homaoa/Regression-for-a-Bike-Sharing-Data-Set/blob/main/EDA.ipynb\" target=\"_parent\"><img src=\"https://colab.research.google.com/assets/colab-badge.svg\" alt=\"Open In Colab\"/></a>"
      ]
    },
    {
      "cell_type": "code",
      "execution_count": 1,
      "metadata": {
        "id": "fyiOxQHFPUj2"
      },
      "outputs": [],
      "source": [
        "import pandas as pd\n",
        "import numpy as np\n",
        "import matplotlib.pyplot as plt\n",
        "import seaborn as sns\n",
        "\n",
        "%matplotlib inline"
      ]
    },
    {
      "cell_type": "code",
      "source": [
        "url = \"/content/Bike DataSet Cleaned.csv\"\n",
        "df = pd.read_csv(url)"
      ],
      "metadata": {
        "id": "gv0NRYteKOBw"
      },
      "execution_count": 2,
      "outputs": []
    },
    {
      "cell_type": "code",
      "source": [
        "df.head()"
      ],
      "metadata": {
        "colab": {
          "base_uri": "https://localhost:8080/",
          "height": 287
        },
        "id": "vi26o5pxKdY1",
        "outputId": "1c6d45e7-f184-4dec-b089-b9aef5043312"
      },
      "execution_count": 3,
      "outputs": [
        {
          "output_type": "execute_result",
          "data": {
            "text/plain": [
              "   Unnamed: 0  Instant  Season  Year  Month  Holiday  WeekDay  WorkingDay  \\\n",
              "0           0        1       1     0      1        0        6           0   \n",
              "1           1        2       1     0      1        0        0           0   \n",
              "2           2        3       1     0      1        0        1           1   \n",
              "3           3        4       1     0      1        0        2           1   \n",
              "4           4        5       1     0      1        0        3           1   \n",
              "\n",
              "   WeatherSituation  Temperature  FeelingTemperature  Humidity  WindSpeed  \\\n",
              "0               2.0     0.344167            0.363625  0.805833   0.160446   \n",
              "1               2.0     0.363478            0.353739  0.696087   0.248539   \n",
              "2               1.0     0.196364            0.189405  0.437273   0.248309   \n",
              "3               1.0     0.200000            0.212122  0.590435   0.160296   \n",
              "4               1.0     0.226957            0.229270  0.436957   0.186900   \n",
              "\n",
              "   Casual  Registered  TotalBikes  \n",
              "0     331         654         985  \n",
              "1     131         670         801  \n",
              "2     120        1229        1349  \n",
              "3     108        1454        1562  \n",
              "4      82        1518        1600  "
            ],
            "text/html": [
              "\n",
              "  <div id=\"df-148c11bf-5725-47d0-b113-93b2055f41f2\">\n",
              "    <div class=\"colab-df-container\">\n",
              "      <div>\n",
              "<style scoped>\n",
              "    .dataframe tbody tr th:only-of-type {\n",
              "        vertical-align: middle;\n",
              "    }\n",
              "\n",
              "    .dataframe tbody tr th {\n",
              "        vertical-align: top;\n",
              "    }\n",
              "\n",
              "    .dataframe thead th {\n",
              "        text-align: right;\n",
              "    }\n",
              "</style>\n",
              "<table border=\"1\" class=\"dataframe\">\n",
              "  <thead>\n",
              "    <tr style=\"text-align: right;\">\n",
              "      <th></th>\n",
              "      <th>Unnamed: 0</th>\n",
              "      <th>Instant</th>\n",
              "      <th>Season</th>\n",
              "      <th>Year</th>\n",
              "      <th>Month</th>\n",
              "      <th>Holiday</th>\n",
              "      <th>WeekDay</th>\n",
              "      <th>WorkingDay</th>\n",
              "      <th>WeatherSituation</th>\n",
              "      <th>Temperature</th>\n",
              "      <th>FeelingTemperature</th>\n",
              "      <th>Humidity</th>\n",
              "      <th>WindSpeed</th>\n",
              "      <th>Casual</th>\n",
              "      <th>Registered</th>\n",
              "      <th>TotalBikes</th>\n",
              "    </tr>\n",
              "  </thead>\n",
              "  <tbody>\n",
              "    <tr>\n",
              "      <th>0</th>\n",
              "      <td>0</td>\n",
              "      <td>1</td>\n",
              "      <td>1</td>\n",
              "      <td>0</td>\n",
              "      <td>1</td>\n",
              "      <td>0</td>\n",
              "      <td>6</td>\n",
              "      <td>0</td>\n",
              "      <td>2.0</td>\n",
              "      <td>0.344167</td>\n",
              "      <td>0.363625</td>\n",
              "      <td>0.805833</td>\n",
              "      <td>0.160446</td>\n",
              "      <td>331</td>\n",
              "      <td>654</td>\n",
              "      <td>985</td>\n",
              "    </tr>\n",
              "    <tr>\n",
              "      <th>1</th>\n",
              "      <td>1</td>\n",
              "      <td>2</td>\n",
              "      <td>1</td>\n",
              "      <td>0</td>\n",
              "      <td>1</td>\n",
              "      <td>0</td>\n",
              "      <td>0</td>\n",
              "      <td>0</td>\n",
              "      <td>2.0</td>\n",
              "      <td>0.363478</td>\n",
              "      <td>0.353739</td>\n",
              "      <td>0.696087</td>\n",
              "      <td>0.248539</td>\n",
              "      <td>131</td>\n",
              "      <td>670</td>\n",
              "      <td>801</td>\n",
              "    </tr>\n",
              "    <tr>\n",
              "      <th>2</th>\n",
              "      <td>2</td>\n",
              "      <td>3</td>\n",
              "      <td>1</td>\n",
              "      <td>0</td>\n",
              "      <td>1</td>\n",
              "      <td>0</td>\n",
              "      <td>1</td>\n",
              "      <td>1</td>\n",
              "      <td>1.0</td>\n",
              "      <td>0.196364</td>\n",
              "      <td>0.189405</td>\n",
              "      <td>0.437273</td>\n",
              "      <td>0.248309</td>\n",
              "      <td>120</td>\n",
              "      <td>1229</td>\n",
              "      <td>1349</td>\n",
              "    </tr>\n",
              "    <tr>\n",
              "      <th>3</th>\n",
              "      <td>3</td>\n",
              "      <td>4</td>\n",
              "      <td>1</td>\n",
              "      <td>0</td>\n",
              "      <td>1</td>\n",
              "      <td>0</td>\n",
              "      <td>2</td>\n",
              "      <td>1</td>\n",
              "      <td>1.0</td>\n",
              "      <td>0.200000</td>\n",
              "      <td>0.212122</td>\n",
              "      <td>0.590435</td>\n",
              "      <td>0.160296</td>\n",
              "      <td>108</td>\n",
              "      <td>1454</td>\n",
              "      <td>1562</td>\n",
              "    </tr>\n",
              "    <tr>\n",
              "      <th>4</th>\n",
              "      <td>4</td>\n",
              "      <td>5</td>\n",
              "      <td>1</td>\n",
              "      <td>0</td>\n",
              "      <td>1</td>\n",
              "      <td>0</td>\n",
              "      <td>3</td>\n",
              "      <td>1</td>\n",
              "      <td>1.0</td>\n",
              "      <td>0.226957</td>\n",
              "      <td>0.229270</td>\n",
              "      <td>0.436957</td>\n",
              "      <td>0.186900</td>\n",
              "      <td>82</td>\n",
              "      <td>1518</td>\n",
              "      <td>1600</td>\n",
              "    </tr>\n",
              "  </tbody>\n",
              "</table>\n",
              "</div>\n",
              "      <button class=\"colab-df-convert\" onclick=\"convertToInteractive('df-148c11bf-5725-47d0-b113-93b2055f41f2')\"\n",
              "              title=\"Convert this dataframe to an interactive table.\"\n",
              "              style=\"display:none;\">\n",
              "        \n",
              "  <svg xmlns=\"http://www.w3.org/2000/svg\" height=\"24px\"viewBox=\"0 0 24 24\"\n",
              "       width=\"24px\">\n",
              "    <path d=\"M0 0h24v24H0V0z\" fill=\"none\"/>\n",
              "    <path d=\"M18.56 5.44l.94 2.06.94-2.06 2.06-.94-2.06-.94-.94-2.06-.94 2.06-2.06.94zm-11 1L8.5 8.5l.94-2.06 2.06-.94-2.06-.94L8.5 2.5l-.94 2.06-2.06.94zm10 10l.94 2.06.94-2.06 2.06-.94-2.06-.94-.94-2.06-.94 2.06-2.06.94z\"/><path d=\"M17.41 7.96l-1.37-1.37c-.4-.4-.92-.59-1.43-.59-.52 0-1.04.2-1.43.59L10.3 9.45l-7.72 7.72c-.78.78-.78 2.05 0 2.83L4 21.41c.39.39.9.59 1.41.59.51 0 1.02-.2 1.41-.59l7.78-7.78 2.81-2.81c.8-.78.8-2.07 0-2.86zM5.41 20L4 18.59l7.72-7.72 1.47 1.35L5.41 20z\"/>\n",
              "  </svg>\n",
              "      </button>\n",
              "      \n",
              "  <style>\n",
              "    .colab-df-container {\n",
              "      display:flex;\n",
              "      flex-wrap:wrap;\n",
              "      gap: 12px;\n",
              "    }\n",
              "\n",
              "    .colab-df-convert {\n",
              "      background-color: #E8F0FE;\n",
              "      border: none;\n",
              "      border-radius: 50%;\n",
              "      cursor: pointer;\n",
              "      display: none;\n",
              "      fill: #1967D2;\n",
              "      height: 32px;\n",
              "      padding: 0 0 0 0;\n",
              "      width: 32px;\n",
              "    }\n",
              "\n",
              "    .colab-df-convert:hover {\n",
              "      background-color: #E2EBFA;\n",
              "      box-shadow: 0px 1px 2px rgba(60, 64, 67, 0.3), 0px 1px 3px 1px rgba(60, 64, 67, 0.15);\n",
              "      fill: #174EA6;\n",
              "    }\n",
              "\n",
              "    [theme=dark] .colab-df-convert {\n",
              "      background-color: #3B4455;\n",
              "      fill: #D2E3FC;\n",
              "    }\n",
              "\n",
              "    [theme=dark] .colab-df-convert:hover {\n",
              "      background-color: #434B5C;\n",
              "      box-shadow: 0px 1px 3px 1px rgba(0, 0, 0, 0.15);\n",
              "      filter: drop-shadow(0px 1px 2px rgba(0, 0, 0, 0.3));\n",
              "      fill: #FFFFFF;\n",
              "    }\n",
              "  </style>\n",
              "\n",
              "      <script>\n",
              "        const buttonEl =\n",
              "          document.querySelector('#df-148c11bf-5725-47d0-b113-93b2055f41f2 button.colab-df-convert');\n",
              "        buttonEl.style.display =\n",
              "          google.colab.kernel.accessAllowed ? 'block' : 'none';\n",
              "\n",
              "        async function convertToInteractive(key) {\n",
              "          const element = document.querySelector('#df-148c11bf-5725-47d0-b113-93b2055f41f2');\n",
              "          const dataTable =\n",
              "            await google.colab.kernel.invokeFunction('convertToInteractive',\n",
              "                                                     [key], {});\n",
              "          if (!dataTable) return;\n",
              "\n",
              "          const docLinkHtml = 'Like what you see? Visit the ' +\n",
              "            '<a target=\"_blank\" href=https://colab.research.google.com/notebooks/data_table.ipynb>data table notebook</a>'\n",
              "            + ' to learn more about interactive tables.';\n",
              "          element.innerHTML = '';\n",
              "          dataTable['output_type'] = 'display_data';\n",
              "          await google.colab.output.renderOutput(dataTable, element);\n",
              "          const docLink = document.createElement('div');\n",
              "          docLink.innerHTML = docLinkHtml;\n",
              "          element.appendChild(docLink);\n",
              "        }\n",
              "      </script>\n",
              "    </div>\n",
              "  </div>\n",
              "  "
            ]
          },
          "metadata": {},
          "execution_count": 3
        }
      ]
    },
    {
      "cell_type": "code",
      "source": [
        "# The column Unnamed is added to the data that I remove.\n",
        "df = df.drop(['Unnamed: 0'], axis=1)"
      ],
      "metadata": {
        "id": "WEGLU8JhKfBL"
      },
      "execution_count": 4,
      "outputs": []
    },
    {
      "cell_type": "code",
      "source": [
        "df.head()"
      ],
      "metadata": {
        "colab": {
          "base_uri": "https://localhost:8080/",
          "height": 270
        },
        "id": "3dETic6rK6zi",
        "outputId": "867ae8e6-983a-4957-b2b5-8dce3ea4082d"
      },
      "execution_count": 5,
      "outputs": [
        {
          "output_type": "execute_result",
          "data": {
            "text/plain": [
              "   Instant  Season  Year  Month  Holiday  WeekDay  WorkingDay  \\\n",
              "0        1       1     0      1        0        6           0   \n",
              "1        2       1     0      1        0        0           0   \n",
              "2        3       1     0      1        0        1           1   \n",
              "3        4       1     0      1        0        2           1   \n",
              "4        5       1     0      1        0        3           1   \n",
              "\n",
              "   WeatherSituation  Temperature  FeelingTemperature  Humidity  WindSpeed  \\\n",
              "0               2.0     0.344167            0.363625  0.805833   0.160446   \n",
              "1               2.0     0.363478            0.353739  0.696087   0.248539   \n",
              "2               1.0     0.196364            0.189405  0.437273   0.248309   \n",
              "3               1.0     0.200000            0.212122  0.590435   0.160296   \n",
              "4               1.0     0.226957            0.229270  0.436957   0.186900   \n",
              "\n",
              "   Casual  Registered  TotalBikes  \n",
              "0     331         654         985  \n",
              "1     131         670         801  \n",
              "2     120        1229        1349  \n",
              "3     108        1454        1562  \n",
              "4      82        1518        1600  "
            ],
            "text/html": [
              "\n",
              "  <div id=\"df-e2cfccac-429e-4072-8c2c-9fe27d932c48\">\n",
              "    <div class=\"colab-df-container\">\n",
              "      <div>\n",
              "<style scoped>\n",
              "    .dataframe tbody tr th:only-of-type {\n",
              "        vertical-align: middle;\n",
              "    }\n",
              "\n",
              "    .dataframe tbody tr th {\n",
              "        vertical-align: top;\n",
              "    }\n",
              "\n",
              "    .dataframe thead th {\n",
              "        text-align: right;\n",
              "    }\n",
              "</style>\n",
              "<table border=\"1\" class=\"dataframe\">\n",
              "  <thead>\n",
              "    <tr style=\"text-align: right;\">\n",
              "      <th></th>\n",
              "      <th>Instant</th>\n",
              "      <th>Season</th>\n",
              "      <th>Year</th>\n",
              "      <th>Month</th>\n",
              "      <th>Holiday</th>\n",
              "      <th>WeekDay</th>\n",
              "      <th>WorkingDay</th>\n",
              "      <th>WeatherSituation</th>\n",
              "      <th>Temperature</th>\n",
              "      <th>FeelingTemperature</th>\n",
              "      <th>Humidity</th>\n",
              "      <th>WindSpeed</th>\n",
              "      <th>Casual</th>\n",
              "      <th>Registered</th>\n",
              "      <th>TotalBikes</th>\n",
              "    </tr>\n",
              "  </thead>\n",
              "  <tbody>\n",
              "    <tr>\n",
              "      <th>0</th>\n",
              "      <td>1</td>\n",
              "      <td>1</td>\n",
              "      <td>0</td>\n",
              "      <td>1</td>\n",
              "      <td>0</td>\n",
              "      <td>6</td>\n",
              "      <td>0</td>\n",
              "      <td>2.0</td>\n",
              "      <td>0.344167</td>\n",
              "      <td>0.363625</td>\n",
              "      <td>0.805833</td>\n",
              "      <td>0.160446</td>\n",
              "      <td>331</td>\n",
              "      <td>654</td>\n",
              "      <td>985</td>\n",
              "    </tr>\n",
              "    <tr>\n",
              "      <th>1</th>\n",
              "      <td>2</td>\n",
              "      <td>1</td>\n",
              "      <td>0</td>\n",
              "      <td>1</td>\n",
              "      <td>0</td>\n",
              "      <td>0</td>\n",
              "      <td>0</td>\n",
              "      <td>2.0</td>\n",
              "      <td>0.363478</td>\n",
              "      <td>0.353739</td>\n",
              "      <td>0.696087</td>\n",
              "      <td>0.248539</td>\n",
              "      <td>131</td>\n",
              "      <td>670</td>\n",
              "      <td>801</td>\n",
              "    </tr>\n",
              "    <tr>\n",
              "      <th>2</th>\n",
              "      <td>3</td>\n",
              "      <td>1</td>\n",
              "      <td>0</td>\n",
              "      <td>1</td>\n",
              "      <td>0</td>\n",
              "      <td>1</td>\n",
              "      <td>1</td>\n",
              "      <td>1.0</td>\n",
              "      <td>0.196364</td>\n",
              "      <td>0.189405</td>\n",
              "      <td>0.437273</td>\n",
              "      <td>0.248309</td>\n",
              "      <td>120</td>\n",
              "      <td>1229</td>\n",
              "      <td>1349</td>\n",
              "    </tr>\n",
              "    <tr>\n",
              "      <th>3</th>\n",
              "      <td>4</td>\n",
              "      <td>1</td>\n",
              "      <td>0</td>\n",
              "      <td>1</td>\n",
              "      <td>0</td>\n",
              "      <td>2</td>\n",
              "      <td>1</td>\n",
              "      <td>1.0</td>\n",
              "      <td>0.200000</td>\n",
              "      <td>0.212122</td>\n",
              "      <td>0.590435</td>\n",
              "      <td>0.160296</td>\n",
              "      <td>108</td>\n",
              "      <td>1454</td>\n",
              "      <td>1562</td>\n",
              "    </tr>\n",
              "    <tr>\n",
              "      <th>4</th>\n",
              "      <td>5</td>\n",
              "      <td>1</td>\n",
              "      <td>0</td>\n",
              "      <td>1</td>\n",
              "      <td>0</td>\n",
              "      <td>3</td>\n",
              "      <td>1</td>\n",
              "      <td>1.0</td>\n",
              "      <td>0.226957</td>\n",
              "      <td>0.229270</td>\n",
              "      <td>0.436957</td>\n",
              "      <td>0.186900</td>\n",
              "      <td>82</td>\n",
              "      <td>1518</td>\n",
              "      <td>1600</td>\n",
              "    </tr>\n",
              "  </tbody>\n",
              "</table>\n",
              "</div>\n",
              "      <button class=\"colab-df-convert\" onclick=\"convertToInteractive('df-e2cfccac-429e-4072-8c2c-9fe27d932c48')\"\n",
              "              title=\"Convert this dataframe to an interactive table.\"\n",
              "              style=\"display:none;\">\n",
              "        \n",
              "  <svg xmlns=\"http://www.w3.org/2000/svg\" height=\"24px\"viewBox=\"0 0 24 24\"\n",
              "       width=\"24px\">\n",
              "    <path d=\"M0 0h24v24H0V0z\" fill=\"none\"/>\n",
              "    <path d=\"M18.56 5.44l.94 2.06.94-2.06 2.06-.94-2.06-.94-.94-2.06-.94 2.06-2.06.94zm-11 1L8.5 8.5l.94-2.06 2.06-.94-2.06-.94L8.5 2.5l-.94 2.06-2.06.94zm10 10l.94 2.06.94-2.06 2.06-.94-2.06-.94-.94-2.06-.94 2.06-2.06.94z\"/><path d=\"M17.41 7.96l-1.37-1.37c-.4-.4-.92-.59-1.43-.59-.52 0-1.04.2-1.43.59L10.3 9.45l-7.72 7.72c-.78.78-.78 2.05 0 2.83L4 21.41c.39.39.9.59 1.41.59.51 0 1.02-.2 1.41-.59l7.78-7.78 2.81-2.81c.8-.78.8-2.07 0-2.86zM5.41 20L4 18.59l7.72-7.72 1.47 1.35L5.41 20z\"/>\n",
              "  </svg>\n",
              "      </button>\n",
              "      \n",
              "  <style>\n",
              "    .colab-df-container {\n",
              "      display:flex;\n",
              "      flex-wrap:wrap;\n",
              "      gap: 12px;\n",
              "    }\n",
              "\n",
              "    .colab-df-convert {\n",
              "      background-color: #E8F0FE;\n",
              "      border: none;\n",
              "      border-radius: 50%;\n",
              "      cursor: pointer;\n",
              "      display: none;\n",
              "      fill: #1967D2;\n",
              "      height: 32px;\n",
              "      padding: 0 0 0 0;\n",
              "      width: 32px;\n",
              "    }\n",
              "\n",
              "    .colab-df-convert:hover {\n",
              "      background-color: #E2EBFA;\n",
              "      box-shadow: 0px 1px 2px rgba(60, 64, 67, 0.3), 0px 1px 3px 1px rgba(60, 64, 67, 0.15);\n",
              "      fill: #174EA6;\n",
              "    }\n",
              "\n",
              "    [theme=dark] .colab-df-convert {\n",
              "      background-color: #3B4455;\n",
              "      fill: #D2E3FC;\n",
              "    }\n",
              "\n",
              "    [theme=dark] .colab-df-convert:hover {\n",
              "      background-color: #434B5C;\n",
              "      box-shadow: 0px 1px 3px 1px rgba(0, 0, 0, 0.15);\n",
              "      filter: drop-shadow(0px 1px 2px rgba(0, 0, 0, 0.3));\n",
              "      fill: #FFFFFF;\n",
              "    }\n",
              "  </style>\n",
              "\n",
              "      <script>\n",
              "        const buttonEl =\n",
              "          document.querySelector('#df-e2cfccac-429e-4072-8c2c-9fe27d932c48 button.colab-df-convert');\n",
              "        buttonEl.style.display =\n",
              "          google.colab.kernel.accessAllowed ? 'block' : 'none';\n",
              "\n",
              "        async function convertToInteractive(key) {\n",
              "          const element = document.querySelector('#df-e2cfccac-429e-4072-8c2c-9fe27d932c48');\n",
              "          const dataTable =\n",
              "            await google.colab.kernel.invokeFunction('convertToInteractive',\n",
              "                                                     [key], {});\n",
              "          if (!dataTable) return;\n",
              "\n",
              "          const docLinkHtml = 'Like what you see? Visit the ' +\n",
              "            '<a target=\"_blank\" href=https://colab.research.google.com/notebooks/data_table.ipynb>data table notebook</a>'\n",
              "            + ' to learn more about interactive tables.';\n",
              "          element.innerHTML = '';\n",
              "          dataTable['output_type'] = 'display_data';\n",
              "          await google.colab.output.renderOutput(dataTable, element);\n",
              "          const docLink = document.createElement('div');\n",
              "          docLink.innerHTML = docLinkHtml;\n",
              "          element.appendChild(docLink);\n",
              "        }\n",
              "      </script>\n",
              "    </div>\n",
              "  </div>\n",
              "  "
            ]
          },
          "metadata": {},
          "execution_count": 5
        }
      ]
    },
    {
      "cell_type": "code",
      "source": [
        "df.info()"
      ],
      "metadata": {
        "colab": {
          "base_uri": "https://localhost:8080/"
        },
        "id": "JB9o0Ek6M7Zb",
        "outputId": "874a1cdf-ece3-4a48-9c10-5654662524f8"
      },
      "execution_count": 6,
      "outputs": [
        {
          "output_type": "stream",
          "name": "stdout",
          "text": [
            "<class 'pandas.core.frame.DataFrame'>\n",
            "RangeIndex: 724 entries, 0 to 723\n",
            "Data columns (total 15 columns):\n",
            " #   Column              Non-Null Count  Dtype  \n",
            "---  ------              --------------  -----  \n",
            " 0   Instant             724 non-null    int64  \n",
            " 1   Season              724 non-null    int64  \n",
            " 2   Year                724 non-null    int64  \n",
            " 3   Month               724 non-null    int64  \n",
            " 4   Holiday             724 non-null    int64  \n",
            " 5   WeekDay             724 non-null    int64  \n",
            " 6   WorkingDay          724 non-null    int64  \n",
            " 7   WeatherSituation    724 non-null    float64\n",
            " 8   Temperature         724 non-null    float64\n",
            " 9   FeelingTemperature  724 non-null    float64\n",
            " 10  Humidity            724 non-null    float64\n",
            " 11  WindSpeed           724 non-null    float64\n",
            " 12  Casual              724 non-null    int64  \n",
            " 13  Registered          724 non-null    int64  \n",
            " 14  TotalBikes          724 non-null    int64  \n",
            "dtypes: float64(5), int64(10)\n",
            "memory usage: 85.0 KB\n"
          ]
        }
      ]
    },
    {
      "cell_type": "code",
      "source": [
        "# The type of categorical variables is back to numeric since I upload the csv file ahain here.\n",
        "# I fix this again."
      ],
      "metadata": {
        "id": "-NTYEGOTM-8B"
      },
      "execution_count": null,
      "outputs": []
    },
    {
      "cell_type": "code",
      "source": [
        "df['Season'] = df['Season'] . astype('object')\n",
        "df['Year'] = df['Year'] . astype('object')\n",
        "df['Month'] = df['Month'] . astype('object')\n",
        "df['WeekDay'] = df['WeekDay'] . astype('object')\n",
        "df['WeatherSituation'] = df['WeatherSituation'] . astype('object')\n",
        "df['Holiday'] = df['Holiday'] . astype('object')\n",
        "df['WorkingDay'] = df['WorkingDay'] . astype('object')"
      ],
      "metadata": {
        "id": "17EaR4S3NLN8"
      },
      "execution_count": 7,
      "outputs": []
    },
    {
      "cell_type": "markdown",
      "source": [
        "## Checking the numeric variables"
      ],
      "metadata": {
        "id": "488bW7wcMVp3"
      }
    },
    {
      "cell_type": "code",
      "source": [
        "# The numeric variables are being normalized by those who collected the data before putting them online.\n",
        "# So they are all between 0 and 1."
      ],
      "metadata": {
        "id": "oH1KoN9Ka7Nw"
      },
      "execution_count": null,
      "outputs": []
    },
    {
      "cell_type": "code",
      "source": [
        "# Now, I check some statistics for numeric variables.\n",
        "df.describe()"
      ],
      "metadata": {
        "colab": {
          "base_uri": "https://localhost:8080/",
          "height": 300
        },
        "id": "jX7KS8aBNfez",
        "outputId": "d421a231-50b7-4c64-995b-b2572ab51bf8"
      },
      "execution_count": 8,
      "outputs": [
        {
          "output_type": "execute_result",
          "data": {
            "text/plain": [
              "          Instant  Temperature  FeelingTemperature    Humidity   WindSpeed  \\\n",
              "count  724.000000   724.000000          724.000000  724.000000  724.000000   \n",
              "mean   367.375691     0.495993            0.474842    0.628346    0.190547   \n",
              "std    211.056022     0.182932            0.162886    0.141840    0.077341   \n",
              "min      1.000000     0.059130            0.079070    0.000000    0.022392   \n",
              "25%    185.750000     0.337292            0.337891    0.522396    0.134953   \n",
              "50%    368.500000     0.501250            0.488627    0.628685    0.180971   \n",
              "75%    550.250000     0.655833            0.609544    0.729687    0.233211   \n",
              "max    731.000000     0.861667            0.840896    0.972500    0.507463   \n",
              "\n",
              "            Casual   Registered   TotalBikes  \n",
              "count   724.000000   724.000000   724.000000  \n",
              "mean    852.410221  3665.281768  4517.691989  \n",
              "std     687.837306  1560.743274  1936.255793  \n",
              "min       2.000000    20.000000    22.000000  \n",
              "25%     316.750000  2506.750000  3193.000000  \n",
              "50%     722.000000  3669.500000  4551.000000  \n",
              "75%    1104.500000  4792.750000  5987.500000  \n",
              "max    3410.000000  6946.000000  8714.000000  "
            ],
            "text/html": [
              "\n",
              "  <div id=\"df-48cfab4a-79f2-4b90-a21d-70ecdaf1727e\">\n",
              "    <div class=\"colab-df-container\">\n",
              "      <div>\n",
              "<style scoped>\n",
              "    .dataframe tbody tr th:only-of-type {\n",
              "        vertical-align: middle;\n",
              "    }\n",
              "\n",
              "    .dataframe tbody tr th {\n",
              "        vertical-align: top;\n",
              "    }\n",
              "\n",
              "    .dataframe thead th {\n",
              "        text-align: right;\n",
              "    }\n",
              "</style>\n",
              "<table border=\"1\" class=\"dataframe\">\n",
              "  <thead>\n",
              "    <tr style=\"text-align: right;\">\n",
              "      <th></th>\n",
              "      <th>Instant</th>\n",
              "      <th>Temperature</th>\n",
              "      <th>FeelingTemperature</th>\n",
              "      <th>Humidity</th>\n",
              "      <th>WindSpeed</th>\n",
              "      <th>Casual</th>\n",
              "      <th>Registered</th>\n",
              "      <th>TotalBikes</th>\n",
              "    </tr>\n",
              "  </thead>\n",
              "  <tbody>\n",
              "    <tr>\n",
              "      <th>count</th>\n",
              "      <td>724.000000</td>\n",
              "      <td>724.000000</td>\n",
              "      <td>724.000000</td>\n",
              "      <td>724.000000</td>\n",
              "      <td>724.000000</td>\n",
              "      <td>724.000000</td>\n",
              "      <td>724.000000</td>\n",
              "      <td>724.000000</td>\n",
              "    </tr>\n",
              "    <tr>\n",
              "      <th>mean</th>\n",
              "      <td>367.375691</td>\n",
              "      <td>0.495993</td>\n",
              "      <td>0.474842</td>\n",
              "      <td>0.628346</td>\n",
              "      <td>0.190547</td>\n",
              "      <td>852.410221</td>\n",
              "      <td>3665.281768</td>\n",
              "      <td>4517.691989</td>\n",
              "    </tr>\n",
              "    <tr>\n",
              "      <th>std</th>\n",
              "      <td>211.056022</td>\n",
              "      <td>0.182932</td>\n",
              "      <td>0.162886</td>\n",
              "      <td>0.141840</td>\n",
              "      <td>0.077341</td>\n",
              "      <td>687.837306</td>\n",
              "      <td>1560.743274</td>\n",
              "      <td>1936.255793</td>\n",
              "    </tr>\n",
              "    <tr>\n",
              "      <th>min</th>\n",
              "      <td>1.000000</td>\n",
              "      <td>0.059130</td>\n",
              "      <td>0.079070</td>\n",
              "      <td>0.000000</td>\n",
              "      <td>0.022392</td>\n",
              "      <td>2.000000</td>\n",
              "      <td>20.000000</td>\n",
              "      <td>22.000000</td>\n",
              "    </tr>\n",
              "    <tr>\n",
              "      <th>25%</th>\n",
              "      <td>185.750000</td>\n",
              "      <td>0.337292</td>\n",
              "      <td>0.337891</td>\n",
              "      <td>0.522396</td>\n",
              "      <td>0.134953</td>\n",
              "      <td>316.750000</td>\n",
              "      <td>2506.750000</td>\n",
              "      <td>3193.000000</td>\n",
              "    </tr>\n",
              "    <tr>\n",
              "      <th>50%</th>\n",
              "      <td>368.500000</td>\n",
              "      <td>0.501250</td>\n",
              "      <td>0.488627</td>\n",
              "      <td>0.628685</td>\n",
              "      <td>0.180971</td>\n",
              "      <td>722.000000</td>\n",
              "      <td>3669.500000</td>\n",
              "      <td>4551.000000</td>\n",
              "    </tr>\n",
              "    <tr>\n",
              "      <th>75%</th>\n",
              "      <td>550.250000</td>\n",
              "      <td>0.655833</td>\n",
              "      <td>0.609544</td>\n",
              "      <td>0.729687</td>\n",
              "      <td>0.233211</td>\n",
              "      <td>1104.500000</td>\n",
              "      <td>4792.750000</td>\n",
              "      <td>5987.500000</td>\n",
              "    </tr>\n",
              "    <tr>\n",
              "      <th>max</th>\n",
              "      <td>731.000000</td>\n",
              "      <td>0.861667</td>\n",
              "      <td>0.840896</td>\n",
              "      <td>0.972500</td>\n",
              "      <td>0.507463</td>\n",
              "      <td>3410.000000</td>\n",
              "      <td>6946.000000</td>\n",
              "      <td>8714.000000</td>\n",
              "    </tr>\n",
              "  </tbody>\n",
              "</table>\n",
              "</div>\n",
              "      <button class=\"colab-df-convert\" onclick=\"convertToInteractive('df-48cfab4a-79f2-4b90-a21d-70ecdaf1727e')\"\n",
              "              title=\"Convert this dataframe to an interactive table.\"\n",
              "              style=\"display:none;\">\n",
              "        \n",
              "  <svg xmlns=\"http://www.w3.org/2000/svg\" height=\"24px\"viewBox=\"0 0 24 24\"\n",
              "       width=\"24px\">\n",
              "    <path d=\"M0 0h24v24H0V0z\" fill=\"none\"/>\n",
              "    <path d=\"M18.56 5.44l.94 2.06.94-2.06 2.06-.94-2.06-.94-.94-2.06-.94 2.06-2.06.94zm-11 1L8.5 8.5l.94-2.06 2.06-.94-2.06-.94L8.5 2.5l-.94 2.06-2.06.94zm10 10l.94 2.06.94-2.06 2.06-.94-2.06-.94-.94-2.06-.94 2.06-2.06.94z\"/><path d=\"M17.41 7.96l-1.37-1.37c-.4-.4-.92-.59-1.43-.59-.52 0-1.04.2-1.43.59L10.3 9.45l-7.72 7.72c-.78.78-.78 2.05 0 2.83L4 21.41c.39.39.9.59 1.41.59.51 0 1.02-.2 1.41-.59l7.78-7.78 2.81-2.81c.8-.78.8-2.07 0-2.86zM5.41 20L4 18.59l7.72-7.72 1.47 1.35L5.41 20z\"/>\n",
              "  </svg>\n",
              "      </button>\n",
              "      \n",
              "  <style>\n",
              "    .colab-df-container {\n",
              "      display:flex;\n",
              "      flex-wrap:wrap;\n",
              "      gap: 12px;\n",
              "    }\n",
              "\n",
              "    .colab-df-convert {\n",
              "      background-color: #E8F0FE;\n",
              "      border: none;\n",
              "      border-radius: 50%;\n",
              "      cursor: pointer;\n",
              "      display: none;\n",
              "      fill: #1967D2;\n",
              "      height: 32px;\n",
              "      padding: 0 0 0 0;\n",
              "      width: 32px;\n",
              "    }\n",
              "\n",
              "    .colab-df-convert:hover {\n",
              "      background-color: #E2EBFA;\n",
              "      box-shadow: 0px 1px 2px rgba(60, 64, 67, 0.3), 0px 1px 3px 1px rgba(60, 64, 67, 0.15);\n",
              "      fill: #174EA6;\n",
              "    }\n",
              "\n",
              "    [theme=dark] .colab-df-convert {\n",
              "      background-color: #3B4455;\n",
              "      fill: #D2E3FC;\n",
              "    }\n",
              "\n",
              "    [theme=dark] .colab-df-convert:hover {\n",
              "      background-color: #434B5C;\n",
              "      box-shadow: 0px 1px 3px 1px rgba(0, 0, 0, 0.15);\n",
              "      filter: drop-shadow(0px 1px 2px rgba(0, 0, 0, 0.3));\n",
              "      fill: #FFFFFF;\n",
              "    }\n",
              "  </style>\n",
              "\n",
              "      <script>\n",
              "        const buttonEl =\n",
              "          document.querySelector('#df-48cfab4a-79f2-4b90-a21d-70ecdaf1727e button.colab-df-convert');\n",
              "        buttonEl.style.display =\n",
              "          google.colab.kernel.accessAllowed ? 'block' : 'none';\n",
              "\n",
              "        async function convertToInteractive(key) {\n",
              "          const element = document.querySelector('#df-48cfab4a-79f2-4b90-a21d-70ecdaf1727e');\n",
              "          const dataTable =\n",
              "            await google.colab.kernel.invokeFunction('convertToInteractive',\n",
              "                                                     [key], {});\n",
              "          if (!dataTable) return;\n",
              "\n",
              "          const docLinkHtml = 'Like what you see? Visit the ' +\n",
              "            '<a target=\"_blank\" href=https://colab.research.google.com/notebooks/data_table.ipynb>data table notebook</a>'\n",
              "            + ' to learn more about interactive tables.';\n",
              "          element.innerHTML = '';\n",
              "          dataTable['output_type'] = 'display_data';\n",
              "          await google.colab.output.renderOutput(dataTable, element);\n",
              "          const docLink = document.createElement('div');\n",
              "          docLink.innerHTML = docLinkHtml;\n",
              "          element.appendChild(docLink);\n",
              "        }\n",
              "      </script>\n",
              "    </div>\n",
              "  </div>\n",
              "  "
            ]
          },
          "metadata": {},
          "execution_count": 8
        }
      ]
    },
    {
      "cell_type": "code",
      "source": [
        "# For example, we can see that minimum bike usage was 22 and maximum was 8714. The mean is also 4517.\n",
        "# We can observe these information for other numeric variables too."
      ],
      "metadata": {
        "id": "t6-OoO8HN_LQ"
      },
      "execution_count": null,
      "outputs": []
    },
    {
      "cell_type": "code",
      "source": [
        "# Now, I want to check the correlation between the numeric variables and the target which is TotalBikes.\n",
        "df.corr()"
      ],
      "metadata": {
        "colab": {
          "base_uri": "https://localhost:8080/",
          "height": 355
        },
        "id": "-O09Xp7SLGyn",
        "outputId": "ad145cc2-98cc-464f-ba46-cb5e1bae2f83"
      },
      "execution_count": 9,
      "outputs": [
        {
          "output_type": "stream",
          "name": "stderr",
          "text": [
            "<ipython-input-9-51e478c97bca>:2: FutureWarning: The default value of numeric_only in DataFrame.corr is deprecated. In a future version, it will default to False. Select only valid columns or specify the value of numeric_only to silence this warning.\n",
            "  df.corr()\n"
          ]
        },
        {
          "output_type": "execute_result",
          "data": {
            "text/plain": [
              "                     Instant  Temperature  FeelingTemperature  Humidity  \\\n",
              "Instant             1.000000     0.145709            0.147916  0.019450   \n",
              "Temperature         0.145709     1.000000            0.991635  0.126912   \n",
              "FeelingTemperature  0.147916     0.991635            1.000000  0.140051   \n",
              "Humidity            0.019450     0.126912            0.140051  1.000000   \n",
              "WindSpeed          -0.114268    -0.161162           -0.186785 -0.250752   \n",
              "Casual              0.271381     0.542228            0.542897 -0.078267   \n",
              "Registered          0.658140     0.537135            0.541453 -0.091786   \n",
              "TotalBikes          0.626908     0.625586            0.629305 -0.101789   \n",
              "\n",
              "                    WindSpeed    Casual  Registered  TotalBikes  \n",
              "Instant             -0.114268  0.271381    0.658140    0.626908  \n",
              "Temperature         -0.161162  0.542228    0.537135    0.625586  \n",
              "FeelingTemperature  -0.186785  0.542897    0.541453    0.629305  \n",
              "Humidity            -0.250752 -0.078267   -0.091786   -0.101789  \n",
              "WindSpeed            1.000000 -0.166818   -0.217585   -0.234648  \n",
              "Casual              -0.166818  1.000000    0.391252    0.670614  \n",
              "Registered          -0.217585  0.391252    1.000000    0.945051  \n",
              "TotalBikes          -0.234648  0.670614    0.945051    1.000000  "
            ],
            "text/html": [
              "\n",
              "  <div id=\"df-77f2f61d-8ff3-400a-998c-6b2d78fcc6ff\">\n",
              "    <div class=\"colab-df-container\">\n",
              "      <div>\n",
              "<style scoped>\n",
              "    .dataframe tbody tr th:only-of-type {\n",
              "        vertical-align: middle;\n",
              "    }\n",
              "\n",
              "    .dataframe tbody tr th {\n",
              "        vertical-align: top;\n",
              "    }\n",
              "\n",
              "    .dataframe thead th {\n",
              "        text-align: right;\n",
              "    }\n",
              "</style>\n",
              "<table border=\"1\" class=\"dataframe\">\n",
              "  <thead>\n",
              "    <tr style=\"text-align: right;\">\n",
              "      <th></th>\n",
              "      <th>Instant</th>\n",
              "      <th>Temperature</th>\n",
              "      <th>FeelingTemperature</th>\n",
              "      <th>Humidity</th>\n",
              "      <th>WindSpeed</th>\n",
              "      <th>Casual</th>\n",
              "      <th>Registered</th>\n",
              "      <th>TotalBikes</th>\n",
              "    </tr>\n",
              "  </thead>\n",
              "  <tbody>\n",
              "    <tr>\n",
              "      <th>Instant</th>\n",
              "      <td>1.000000</td>\n",
              "      <td>0.145709</td>\n",
              "      <td>0.147916</td>\n",
              "      <td>0.019450</td>\n",
              "      <td>-0.114268</td>\n",
              "      <td>0.271381</td>\n",
              "      <td>0.658140</td>\n",
              "      <td>0.626908</td>\n",
              "    </tr>\n",
              "    <tr>\n",
              "      <th>Temperature</th>\n",
              "      <td>0.145709</td>\n",
              "      <td>1.000000</td>\n",
              "      <td>0.991635</td>\n",
              "      <td>0.126912</td>\n",
              "      <td>-0.161162</td>\n",
              "      <td>0.542228</td>\n",
              "      <td>0.537135</td>\n",
              "      <td>0.625586</td>\n",
              "    </tr>\n",
              "    <tr>\n",
              "      <th>FeelingTemperature</th>\n",
              "      <td>0.147916</td>\n",
              "      <td>0.991635</td>\n",
              "      <td>1.000000</td>\n",
              "      <td>0.140051</td>\n",
              "      <td>-0.186785</td>\n",
              "      <td>0.542897</td>\n",
              "      <td>0.541453</td>\n",
              "      <td>0.629305</td>\n",
              "    </tr>\n",
              "    <tr>\n",
              "      <th>Humidity</th>\n",
              "      <td>0.019450</td>\n",
              "      <td>0.126912</td>\n",
              "      <td>0.140051</td>\n",
              "      <td>1.000000</td>\n",
              "      <td>-0.250752</td>\n",
              "      <td>-0.078267</td>\n",
              "      <td>-0.091786</td>\n",
              "      <td>-0.101789</td>\n",
              "    </tr>\n",
              "    <tr>\n",
              "      <th>WindSpeed</th>\n",
              "      <td>-0.114268</td>\n",
              "      <td>-0.161162</td>\n",
              "      <td>-0.186785</td>\n",
              "      <td>-0.250752</td>\n",
              "      <td>1.000000</td>\n",
              "      <td>-0.166818</td>\n",
              "      <td>-0.217585</td>\n",
              "      <td>-0.234648</td>\n",
              "    </tr>\n",
              "    <tr>\n",
              "      <th>Casual</th>\n",
              "      <td>0.271381</td>\n",
              "      <td>0.542228</td>\n",
              "      <td>0.542897</td>\n",
              "      <td>-0.078267</td>\n",
              "      <td>-0.166818</td>\n",
              "      <td>1.000000</td>\n",
              "      <td>0.391252</td>\n",
              "      <td>0.670614</td>\n",
              "    </tr>\n",
              "    <tr>\n",
              "      <th>Registered</th>\n",
              "      <td>0.658140</td>\n",
              "      <td>0.537135</td>\n",
              "      <td>0.541453</td>\n",
              "      <td>-0.091786</td>\n",
              "      <td>-0.217585</td>\n",
              "      <td>0.391252</td>\n",
              "      <td>1.000000</td>\n",
              "      <td>0.945051</td>\n",
              "    </tr>\n",
              "    <tr>\n",
              "      <th>TotalBikes</th>\n",
              "      <td>0.626908</td>\n",
              "      <td>0.625586</td>\n",
              "      <td>0.629305</td>\n",
              "      <td>-0.101789</td>\n",
              "      <td>-0.234648</td>\n",
              "      <td>0.670614</td>\n",
              "      <td>0.945051</td>\n",
              "      <td>1.000000</td>\n",
              "    </tr>\n",
              "  </tbody>\n",
              "</table>\n",
              "</div>\n",
              "      <button class=\"colab-df-convert\" onclick=\"convertToInteractive('df-77f2f61d-8ff3-400a-998c-6b2d78fcc6ff')\"\n",
              "              title=\"Convert this dataframe to an interactive table.\"\n",
              "              style=\"display:none;\">\n",
              "        \n",
              "  <svg xmlns=\"http://www.w3.org/2000/svg\" height=\"24px\"viewBox=\"0 0 24 24\"\n",
              "       width=\"24px\">\n",
              "    <path d=\"M0 0h24v24H0V0z\" fill=\"none\"/>\n",
              "    <path d=\"M18.56 5.44l.94 2.06.94-2.06 2.06-.94-2.06-.94-.94-2.06-.94 2.06-2.06.94zm-11 1L8.5 8.5l.94-2.06 2.06-.94-2.06-.94L8.5 2.5l-.94 2.06-2.06.94zm10 10l.94 2.06.94-2.06 2.06-.94-2.06-.94-.94-2.06-.94 2.06-2.06.94z\"/><path d=\"M17.41 7.96l-1.37-1.37c-.4-.4-.92-.59-1.43-.59-.52 0-1.04.2-1.43.59L10.3 9.45l-7.72 7.72c-.78.78-.78 2.05 0 2.83L4 21.41c.39.39.9.59 1.41.59.51 0 1.02-.2 1.41-.59l7.78-7.78 2.81-2.81c.8-.78.8-2.07 0-2.86zM5.41 20L4 18.59l7.72-7.72 1.47 1.35L5.41 20z\"/>\n",
              "  </svg>\n",
              "      </button>\n",
              "      \n",
              "  <style>\n",
              "    .colab-df-container {\n",
              "      display:flex;\n",
              "      flex-wrap:wrap;\n",
              "      gap: 12px;\n",
              "    }\n",
              "\n",
              "    .colab-df-convert {\n",
              "      background-color: #E8F0FE;\n",
              "      border: none;\n",
              "      border-radius: 50%;\n",
              "      cursor: pointer;\n",
              "      display: none;\n",
              "      fill: #1967D2;\n",
              "      height: 32px;\n",
              "      padding: 0 0 0 0;\n",
              "      width: 32px;\n",
              "    }\n",
              "\n",
              "    .colab-df-convert:hover {\n",
              "      background-color: #E2EBFA;\n",
              "      box-shadow: 0px 1px 2px rgba(60, 64, 67, 0.3), 0px 1px 3px 1px rgba(60, 64, 67, 0.15);\n",
              "      fill: #174EA6;\n",
              "    }\n",
              "\n",
              "    [theme=dark] .colab-df-convert {\n",
              "      background-color: #3B4455;\n",
              "      fill: #D2E3FC;\n",
              "    }\n",
              "\n",
              "    [theme=dark] .colab-df-convert:hover {\n",
              "      background-color: #434B5C;\n",
              "      box-shadow: 0px 1px 3px 1px rgba(0, 0, 0, 0.15);\n",
              "      filter: drop-shadow(0px 1px 2px rgba(0, 0, 0, 0.3));\n",
              "      fill: #FFFFFF;\n",
              "    }\n",
              "  </style>\n",
              "\n",
              "      <script>\n",
              "        const buttonEl =\n",
              "          document.querySelector('#df-77f2f61d-8ff3-400a-998c-6b2d78fcc6ff button.colab-df-convert');\n",
              "        buttonEl.style.display =\n",
              "          google.colab.kernel.accessAllowed ? 'block' : 'none';\n",
              "\n",
              "        async function convertToInteractive(key) {\n",
              "          const element = document.querySelector('#df-77f2f61d-8ff3-400a-998c-6b2d78fcc6ff');\n",
              "          const dataTable =\n",
              "            await google.colab.kernel.invokeFunction('convertToInteractive',\n",
              "                                                     [key], {});\n",
              "          if (!dataTable) return;\n",
              "\n",
              "          const docLinkHtml = 'Like what you see? Visit the ' +\n",
              "            '<a target=\"_blank\" href=https://colab.research.google.com/notebooks/data_table.ipynb>data table notebook</a>'\n",
              "            + ' to learn more about interactive tables.';\n",
              "          element.innerHTML = '';\n",
              "          dataTable['output_type'] = 'display_data';\n",
              "          await google.colab.output.renderOutput(dataTable, element);\n",
              "          const docLink = document.createElement('div');\n",
              "          docLink.innerHTML = docLinkHtml;\n",
              "          element.appendChild(docLink);\n",
              "        }\n",
              "      </script>\n",
              "    </div>\n",
              "  </div>\n",
              "  "
            ]
          },
          "metadata": {},
          "execution_count": 9
        }
      ]
    },
    {
      "cell_type": "code",
      "source": [
        "# Based on the table above, it is clear that between the variables related to the weather (Temperature,\n",
        "# FeelingTemperature, Humidity and WindSpeed), Temperature and FeelingTemprature have higher correlation \n",
        "# with TotalBikes. It means when the weather is warmer, more people use bikes.\n",
        "# I can draw a scatter plot for Temperature to observe this correlation better."
      ],
      "metadata": {
        "id": "qUSqcW5QOyBr"
      },
      "execution_count": null,
      "outputs": []
    },
    {
      "cell_type": "code",
      "source": [
        "plt.figure(figsize=(5,3))\n",
        "plt.scatter(df['Temperature'] , df['TotalBikes'])\n",
        "plt.title('Temperature vs TotalBikes')\n",
        "plt.xlabel('Temperature')\n",
        "plt.ylabel('TotalBikes')\n",
        "plt.show()"
      ],
      "metadata": {
        "colab": {
          "base_uri": "https://localhost:8080/",
          "height": 333
        },
        "id": "fQeHZUnWPW1h",
        "outputId": "71e5aec5-c805-41b0-d308-5b85c20653c4"
      },
      "execution_count": 11,
      "outputs": [
        {
          "output_type": "display_data",
          "data": {
            "text/plain": [
              "<Figure size 500x300 with 1 Axes>"
            ],
            "image/png": "[encoded data removed]"
          },
          "metadata": {}
        }
      ]
    },
    {
      "cell_type": "code",
      "source": [
        "plt.figure(figsize=(4,3))\n",
        "df.boxplot(column='TotalBikes')"
      ],
      "metadata": {
        "colab": {
          "base_uri": "https://localhost:8080/",
          "height": 309
        },
        "id": "bPV9E9n3KpOp",
        "outputId": "d389964b-93ef-4e3c-8597-4953a5932d63"
      },
      "execution_count": 10,
      "outputs": [
        {
          "output_type": "execute_result",
          "data": {
            "text/plain": [
              "<Axes: >"
            ]
          },
          "metadata": {},
          "execution_count": 10
        },
        {
          "output_type": "display_data",
          "data": {
            "text/plain": [
              "<Figure size 400x300 with 1 Axes>"
            ],
            "image/png": "[encoded data removed]"
          },
          "metadata": {}
        }
      ]
    },
    {
      "cell_type": "code",
      "source": [
        "# Now I draw the histogram graph for the numeric variables.\n",
        "\n",
        "df_num = df[['Temperature','FeelingTemperature','Humidity','WindSpeed']]\n",
        "figure, axis = plt.subplots(1,4,figsize=(15, 3))\n",
        "\n",
        "axis[0].hist(df['Temperature'] , color = 'teal')\n",
        "axis[0].set_title('Temperature')\n",
        "\n",
        "axis[1].hist(df['FeelingTemperature'] , color = 'darkseagreen')\n",
        "axis[1].set_title('FeelingTemperature')\n",
        "\n",
        "axis[2].hist(df['Humidity'] , color = 'cadetblue')\n",
        "axis[2].set_title('Humidity')\n",
        "\n",
        "axis[3].hist(df['WindSpeed'] , color = 'dimgray')\n",
        "axis[3].set_title('WindSpeed')"
      ],
      "metadata": {
        "colab": {
          "base_uri": "https://localhost:8080/",
          "height": 323
        },
        "id": "X4T_3XwZSzKa",
        "outputId": "724e7b3b-e338-4fcb-8ddb-72cf489741ca"
      },
      "execution_count": null,
      "outputs": [
        {
          "output_type": "execute_result",
          "data": {
            "text/plain": [
              "Text(0.5, 1.0, 'WindSpeed')"
            ]
          },
          "metadata": {},
          "execution_count": 65
        },
        {
          "output_type": "display_data",
          "data": {
            "text/plain": [
              "<Figure size 1500x300 with 4 Axes>"
            ],
            "image/png": "[encoded data removed]"
          },
          "metadata": {}
        }
      ]
    },
    {
      "cell_type": "code",
      "source": [
        "# As I mentioned before, the numeric variables have been normalized and we can see that in their graphs too."
      ],
      "metadata": {
        "id": "MIb-KfnVblnP"
      },
      "execution_count": null,
      "outputs": []
    },
    {
      "cell_type": "markdown",
      "source": [
        "## Checking the categorical variables"
      ],
      "metadata": {
        "id": "g8sIn7NCMgS_"
      }
    },
    {
      "cell_type": "code",
      "source": [
        "df_cat = df[['Season','Year','Month','Holiday','WeekDay','WorkingDay','WeatherSituation']]"
      ],
      "metadata": {
        "id": "4hOBxueaPXC_"
      },
      "execution_count": 12,
      "outputs": []
    },
    {
      "cell_type": "code",
      "source": [
        "# I make a bar chart for each categorical variable.\n",
        "sns.set(rc={'figure.figsize':(5,4)})\n",
        "for i in df_cat.columns:\n",
        "  num = df_cat[i].value_counts()\n",
        "  print(f'\\n Graph for {i} : total = {len(num)}')\n",
        "  chart = sns.barplot(x=num.index , y=num)\n",
        "  chart.set_xticklabels(chart.get_xticklabels())\n",
        "  plt.show()"
      ],
      "metadata": {
        "colab": {
          "base_uri": "https://localhost:8080/",
          "height": 1000
        },
        "id": "nqJKQdahNAlW",
        "outputId": "9b1d0581-725f-4a09-8b57-747ce775e036"
      },
      "execution_count": 13,
      "outputs": [
        {
          "output_type": "stream",
          "name": "stdout",
          "text": [
            "\n",
            " Graph for Season : total = 4\n"
          ]
        },
        {
          "output_type": "display_data",
          "data": {
            "text/plain": [
              "<Figure size 500x400 with 1 Axes>"
            ],
            "image/png": "[encoded data removed]"
          },
          "metadata": {}
        },
        {
          "output_type": "stream",
          "name": "stdout",
          "text": [
            "\n",
            " Graph for Year : total = 2\n"
          ]
        },
        {
          "output_type": "display_data",
          "data": {
            "text/plain": [
              "<Figure size 500x400 with 1 Axes>"
            ],
            "image/png": "[encoded data removed]"
          },
          "metadata": {}
        },
        {
          "output_type": "stream",
          "name": "stdout",
          "text": [
            "\n",
            " Graph for Month : total = 12\n"
          ]
        },
        {
          "output_type": "display_data",
          "data": {
            "text/plain": [
              "<Figure size 500x400 with 1 Axes>"
            ],
            "image/png": "[encoded data removed]"
          },
          "metadata": {}
        },
        {
          "output_type": "stream",
          "name": "stdout",
          "text": [
            "\n",
            " Graph for Holiday : total = 2\n"
          ]
        },
        {
          "output_type": "display_data",
          "data": {
            "text/plain": [
              "<Figure size 500x400 with 1 Axes>"
            ],
            "image/png": "[encoded data removed]"
          },
          "metadata": {}
        },
        {
          "output_type": "stream",
          "name": "stdout",
          "text": [
            "\n",
            " Graph for WeekDay : total = 7\n"
          ]
        },
        {
          "output_type": "display_data",
          "data": {
            "text/plain": [
              "<Figure size 500x400 with 1 Axes>"
            ],
            "image/png": "[encoded data removed]"
          },
          "metadata": {}
        },
        {
          "output_type": "stream",
          "name": "stdout",
          "text": [
            "\n",
            " Graph for WorkingDay : total = 2\n"
          ]
        },
        {
          "output_type": "display_data",
          "data": {
            "text/plain": [
              "<Figure size 500x400 with 1 Axes>"
            ],
            "image/png": "[encoded data removed]"
          },
          "metadata": {}
        },
        {
          "output_type": "stream",
          "name": "stdout",
          "text": [
            "\n",
            " Graph for WeatherSituation : total = 3\n"
          ]
        },
        {
          "output_type": "display_data",
          "data": {
            "text/plain": [
              "<Figure size 500x400 with 1 Axes>"
            ],
            "image/png": "[encoded data removed]"
          },
          "metadata": {}
        }
      ]
    },
    {
      "cell_type": "code",
      "source": [
        "# Some information was predictable even before drawing the bar charts for the categorical variables.\n",
        "# For example the ratio between sub categories of holidays, working days, weak days, months.\n",
        "# But for example for the weather situation, it was difficult to know the ratio between different classes of this category,\n",
        "# but with this bar chart, it is clear now that weather situation number 1 is way more common, and number 3 happens way less. "
      ],
      "metadata": {
        "id": "iOWn_eXaPOic"
      },
      "execution_count": null,
      "outputs": []
    },
    {
      "cell_type": "code",
      "source": [
        "### ANOVA\n",
        "# Now I use ANOVA to obtain f-score and p-value for variable TotalBikes and each categorical variable.\n",
        "# Higher f-score means that with change in sub categories, the change in the numeric variable is more significant.\n",
        "# When f-score is big, it means there is correlation between that categorical and numeric variables."
      ],
      "metadata": {
        "id": "2ZqUW4N7Qf50"
      },
      "execution_count": null,
      "outputs": []
    },
    {
      "cell_type": "code",
      "source": [
        "from scipy import stats\n",
        "\n",
        "df_anova = df[['Year','TotalBikes']]\n",
        "grouped_anova = df_anova.groupby(['Year'])\n",
        "anova_results = stats.f_oneway(grouped_anova.get_group(0)['TotalBikes'], grouped_anova.get_group(1)['TotalBikes'])\n",
        "print(anova_results)"
      ],
      "metadata": {
        "colab": {
          "base_uri": "https://localhost:8080/"
        },
        "id": "-3Bd5HkTeALr",
        "outputId": "64faf724-afc2-47c6-e060-adadab6e0611"
      },
      "execution_count": 14,
      "outputs": [
        {
          "output_type": "stream",
          "name": "stdout",
          "text": [
            "F_onewayResult(statistic=336.20200172102335, pvalue=6.0659359189178145e-62)\n"
          ]
        }
      ]
    },
    {
      "cell_type": "code",
      "source": [
        "df_anova = df[['Season','TotalBikes']]\n",
        "grouped_anova = df_anova.groupby(['Season'])\n",
        "anova_results = stats.f_oneway(grouped_anova.get_group(1)['TotalBikes'], grouped_anova.get_group(2)['TotalBikes'],\n",
        "                               grouped_anova.get_group(3)['TotalBikes'], grouped_anova.get_group(4)['TotalBikes'])\n",
        "print(anova_results)"
      ],
      "metadata": {
        "colab": {
          "base_uri": "https://localhost:8080/"
        },
        "id": "k8OEUosuodLf",
        "outputId": "75dd7447-c7cb-411d-dec7-884917643d4a"
      },
      "execution_count": 18,
      "outputs": [
        {
          "output_type": "stream",
          "name": "stdout",
          "text": [
            "F_onewayResult(statistic=126.64383388282607, pvalue=7.070201748094244e-66)\n"
          ]
        }
      ]
    },
    {
      "cell_type": "code",
      "source": [
        "df_anova = df[['Month','TotalBikes']]\n",
        "grouped_anova = df_anova.groupby(['Month'])\n",
        "anova_results = stats.f_oneway(grouped_anova.get_group(1)['TotalBikes'], grouped_anova.get_group(2)['TotalBikes'],\n",
        "                               grouped_anova.get_group(3)['TotalBikes'], grouped_anova.get_group(4)['TotalBikes'],\n",
        "                               grouped_anova.get_group(5)['TotalBikes'], grouped_anova.get_group(6)['TotalBikes'],\n",
        "                               grouped_anova.get_group(7)['TotalBikes'], grouped_anova.get_group(8)['TotalBikes'],\n",
        "                               grouped_anova.get_group(9)['TotalBikes'], grouped_anova.get_group(10)['TotalBikes'],\n",
        "                               grouped_anova.get_group(11)['TotalBikes'], grouped_anova.get_group(12)['TotalBikes'],)\n",
        "print(anova_results)"
      ],
      "metadata": {
        "colab": {
          "base_uri": "https://localhost:8080/"
        },
        "id": "2EKRu-xbpjFK",
        "outputId": "d6cea1aa-c214-4525-ad96-c8af288dc471"
      },
      "execution_count": 19,
      "outputs": [
        {
          "output_type": "stream",
          "name": "stdout",
          "text": [
            "F_onewayResult(statistic=40.908764059179006, pvalue=1.5936668063780093e-68)\n"
          ]
        }
      ]
    },
    {
      "cell_type": "code",
      "source": [
        "df_anova = df[['Holiday','TotalBikes']]\n",
        "grouped_anova = df_anova.groupby(['Holiday'])\n",
        "anova_results = stats.f_oneway(grouped_anova.get_group(0)['TotalBikes'], grouped_anova.get_group(1)['TotalBikes'])\n",
        "print(anova_results)"
      ],
      "metadata": {
        "colab": {
          "base_uri": "https://localhost:8080/"
        },
        "id": "dEiM5oG0qJez",
        "outputId": "2fee7036-d966-452b-8354-446a5044eb8f"
      },
      "execution_count": 20,
      "outputs": [
        {
          "output_type": "stream",
          "name": "stdout",
          "text": [
            "F_onewayResult(statistic=3.5463838273856014, pvalue=0.060077115936348305)\n"
          ]
        }
      ]
    },
    {
      "cell_type": "code",
      "source": [
        "df_anova = df[['WeekDay','TotalBikes']]\n",
        "grouped_anova = df_anova.groupby(['WeekDay'])\n",
        "anova_results = stats.f_oneway(grouped_anova.get_group(0)['TotalBikes'], grouped_anova.get_group(1)['TotalBikes'],\n",
        "                               grouped_anova.get_group(2)['TotalBikes'], grouped_anova.get_group(3)['TotalBikes'],\n",
        "                               grouped_anova.get_group(4)['TotalBikes'], grouped_anova.get_group(5)['TotalBikes'],\n",
        "                               grouped_anova.get_group(6)['TotalBikes'],)\n",
        "print(anova_results)"
      ],
      "metadata": {
        "colab": {
          "base_uri": "https://localhost:8080/"
        },
        "id": "MivwWPujrS8i",
        "outputId": "dc631414-c429-4633-ff51-497308be508f"
      },
      "execution_count": 21,
      "outputs": [
        {
          "output_type": "stream",
          "name": "stdout",
          "text": [
            "F_onewayResult(statistic=0.7140617100262666, pvalue=0.6383682899007432)\n"
          ]
        }
      ]
    },
    {
      "cell_type": "code",
      "source": [
        "df_anova = df[['WorkingDay','TotalBikes']]\n",
        "grouped_anova = df_anova.groupby(['WorkingDay'])\n",
        "anova_results = stats.f_oneway(grouped_anova.get_group(0)['TotalBikes'], grouped_anova.get_group(1)['TotalBikes'])\n",
        "print(anova_results)"
      ],
      "metadata": {
        "colab": {
          "base_uri": "https://localhost:8080/"
        },
        "id": "xoTKMiBAsCZv",
        "outputId": "4fe5c2d1-982c-4745-f00a-869f9b31703c"
      },
      "execution_count": 22,
      "outputs": [
        {
          "output_type": "stream",
          "name": "stdout",
          "text": [
            "F_onewayResult(statistic=2.941181315376938, pvalue=0.08677665163832853)\n"
          ]
        }
      ]
    },
    {
      "cell_type": "code",
      "source": [
        "df_anova = df[['WeatherSituation','TotalBikes']]\n",
        "grouped_anova = df_anova.groupby(['WeatherSituation'])\n",
        "anova_results = stats.f_oneway(grouped_anova.get_group(1)['TotalBikes'], grouped_anova.get_group(2)['TotalBikes'],\n",
        "                               grouped_anova.get_group(3)['TotalBikes'])\n",
        "print(anova_results)"
      ],
      "metadata": {
        "colab": {
          "base_uri": "https://localhost:8080/"
        },
        "id": "TYTgmLhPsSIB",
        "outputId": "5e5a23de-c432-4422-cf6b-050bcc75821d"
      },
      "execution_count": 24,
      "outputs": [
        {
          "output_type": "stream",
          "name": "stdout",
          "text": [
            "F_onewayResult(statistic=39.736266202912276, pvalue=4.2586648444617595e-17)\n"
          ]
        }
      ]
    }
  ]
}